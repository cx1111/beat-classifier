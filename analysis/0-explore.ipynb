{
 "cells": [
  {
   "cell_type": "markdown",
   "metadata": {
    "collapsed": true
   },
   "source": [
    "# Notebook 0 - Exploration of the Data"
   ]
  },
  {
   "cell_type": "markdown",
   "metadata": {},
   "source": [
    "## Section 0 - Import libraries and basic metadata"
   ]
  },
  {
   "cell_type": "code",
   "execution_count": null,
   "metadata": {
    "scrolled": true
   },
   "outputs": [],
   "source": [
    "import os\n",
    "\n",
    "import matplotlib.pyplot as plt\n",
    "import multiprocessing\n",
    "import numpy as np\n",
    "import pandas as pd\n",
    "from scipy.signal import butter, filtfilt\n",
    "import wfdb\n",
    "\n",
    "# from bc.beats import get_beats, get_beat_bank\n",
    "from bc.io import ann_to_df\n",
    "from bc.plot import plot_beat, plot_four_beats\n",
    "\n",
    "base_dir = os.path.abspath('..')\n",
    "data_dir = os.path.join(base_dir, 'data')\n",
    "\n",
    "# Table of record names and the beat types they contain\n",
    "beat_table = pd.read_csv(os.path.join(data_dir, 'beat-types.csv'), dtype={'record':object})\n",
    "beat_table.set_index('record', inplace=True)"
   ]
  },
  {
   "cell_type": "code",
   "execution_count": null,
   "metadata": {},
   "outputs": [],
   "source": [
    "# View some records and their beats from the beat table\n",
    "beat_table.head()"
   ]
  },
  {
   "cell_type": "markdown",
   "metadata": {},
   "source": [
    "## Section 1 - Inspect signal and annotation content"
   ]
  },
  {
   "cell_type": "code",
   "execution_count": null,
   "metadata": {},
   "outputs": [],
   "source": [
    "# Records with L: Left bundle branch block beat\n",
    "l_records = beat_table.loc[beat_table['L']>0].index.values\n",
    "\n",
    "# Visualize some records and annotations\n",
    "for rec_name in l_records:\n",
    "    # Load the signals and L beat annotations\n",
    "    rec = wfdb.rdrecord(os.path.join(data_dir, rec_name), sampfrom=22000, sampto=32000)\n",
    "    ann = wfdb.rdann(os.path.join(data_dir, rec_name), extension='atr',\n",
    "                     sampfrom=22000, sampto=32000, shift_samps=True, summarize_labels=True)\n",
    "    # Show the annotations contained in the files\n",
    "    ann.contained_labels.set_index('symbol', inplace=True)\n",
    "    display(ann.contained_labels.loc[:, ['description', 'n_occurrences']])\n",
    "    wfdb.plot_wfdb(record=rec, annotation=ann, plot_sym=True)     "
   ]
  },
  {
   "cell_type": "markdown",
   "metadata": {},
   "source": [
    "### Extracting and zooming in on beats"
   ]
  },
  {
   "cell_type": "code",
   "execution_count": null,
   "metadata": {},
   "outputs": [],
   "source": [
    "def get_beats(sig, qrs_inds, beat_types, wanted_type, prop_left=0.3,\n",
    "              rr_limits=(108, 540), fixed_width=None, single_chan=False,\n",
    "              view=False):\n",
    "    \"\"\"\n",
    "    Given a signal and beat locations, extract the beats of a certain\n",
    "    type.\n",
    "\n",
    "    Beats are taken as prop_left of the signal fraction to the previous\n",
    "    beat, and 1-prop_left of the signal fraction to the next beat.\n",
    "\n",
    "    Exceptions are for the first beat, last beat, and when the\n",
    "    next beat is too close or far.\n",
    "\n",
    "    Paramters\n",
    "    ---------\n",
    "    sig : numpy array\n",
    "        The single or multi-channel signal.\n",
    "    qrs_inds : numpy array\n",
    "        The locations of the beat indices.\n",
    "    beat_types : list\n",
    "        The labeled beat types.\n",
    "    wanted_type : str\n",
    "        The type of beat to extract. All others will be skipped, though\n",
    "        their qrs locations will be used to calculate beat boundaries.\n",
    "    prop_left : float, optional\n",
    "        The fraction/proportion of the beat that lies to the left of the\n",
    "        beat index. The remaining 1-prop_left lies to the right.\n",
    "    rr_limits : tuple, optional\n",
    "        Low and high limits of acceptable rr values. Default limits 108\n",
    "        and 540 samples correspond to 200bpm and 40bpm at fs=360.\n",
    "    fixed_width : int, optional\n",
    "        Whether to get beats of fixed width instead. If not None, this\n",
    "        function ignores the `prop_left` and `rr_limits` arguments and\n",
    "        instead returns beats of width specified by this parameter.\n",
    "    single_chan : bool, optional\n",
    "        If sig has more than 1 channel, specifies whether to keep only\n",
    "        the first channel. Option ignored if sig has one channel.\n",
    "    view : bool, optional\n",
    "        Whether to display the individual beats collected\n",
    "\n",
    "    Returns\n",
    "    -------\n",
    "    beats : list\n",
    "        List of numpy arrays representing beats.\n",
    "    centers : list\n",
    "        List of relative locations of the beat centers for each beat\n",
    "    \"\"\"\n",
    "    prop_right = 1 - prop_left\n",
    "    sig_len = sig.shape[0]\n",
    "    n_beats = len(qrs_inds)\n",
    "\n",
    "    if fixed_width is not None:\n",
    "        len_left_fixed = int(fixed_width / 2)\n",
    "\n",
    "    # List of numpy arrays of beat segments\n",
    "    beats = []\n",
    "    # qrs complex detection index relative to the start of each beat\n",
    "    centers = []\n",
    "    # rr intervals, used to extract beats\n",
    "    rr = np.diff(qrs_inds)\n",
    "    mean_rr = np.average(rr[(rr < rr_limits[1]) & (rr > rr_limits[0])])\n",
    "\n",
    "    for i in range(n_beats):\n",
    "        # Only keep wanted beat types\n",
    "        if beat_types[i] == wanted_type:\n",
    "\n",
    "            if fixed_width is None:\n",
    "                # Previous and next rr intervals for this qrs\n",
    "                rr_prev = rr[max(0, i - 1)]\n",
    "                rr_next = rr[min(i, n_beats-2)]\n",
    "\n",
    "                # Constrain the rr intervals\n",
    "                if not (rr_limits[0] < rr_prev < rr_limits[1]):\n",
    "                    rr_prev = mean_rr\n",
    "                if not (rr_limits[0] < rr_next < rr_limits[1]):\n",
    "                    rr_next = mean_rr\n",
    "                len_left = int(rr_prev * prop_left)\n",
    "                len_right = int(rr_next * prop_right)\n",
    "            else:\n",
    "                len_left = len_right = len_left_fixed\n",
    "\n",
    "            # Skip beats too close to boundaries\n",
    "            if qrs_inds[i] - len_left < 0 or qrs_inds[i] + len_right > sig_len-1:\n",
    "                continue\n",
    "\n",
    "            if sig.ndim == 1:\n",
    "                beats.append(sig[qrs_inds[i] - len_left:qrs_inds[i] + len_right])\n",
    "            else:\n",
    "                if single_chan:\n",
    "                    beats.append(sig[qrs_inds[i] - len_left:qrs_inds[i] + len_right, 0])\n",
    "                else:\n",
    "                    beats.append(sig[qrs_inds[i] - len_left:qrs_inds[i] + len_right, :])\n",
    "            centers.append(len_left)\n",
    "\n",
    "            if view:\n",
    "                # Viewing results\n",
    "                plt.plot(beats[-1])\n",
    "                plt.plot(centers[-1], beats[-1][centers[-1]], 'r*')\n",
    "                plt.show()\n",
    "\n",
    "    return beats, centers\n",
    "\n"
   ]
  },
  {
   "cell_type": "code",
   "execution_count": null,
   "metadata": {},
   "outputs": [],
   "source": [
    "# Load a record, extract some beats, and view them.\n",
    "sig, fields = wfdb.rdsamp(os.path.join(data_dir, l_records[0]), sampto=2000)\n",
    "ann = wfdb.rdann(os.path.join(data_dir, l_records[0]), extension='atr', sampto=2000)\n",
    "# Get the peak samples and symbols in a dataframe. Remove the non-beat annotations\n",
    "qrs_df = ann_to_df(ann, rm_sym=['+', '~'])\n",
    "beats, centers = get_beats(sig=sig[:, 0], qrs_inds=qrs_df['sample'].values, \n",
    "                           beat_types = qrs_df['symbol'].values, wanted_type='L',\n",
    "                           view=True)"
   ]
  },
  {
   "cell_type": "code",
   "execution_count": null,
   "metadata": {},
   "outputs": [],
   "source": []
  },
  {
   "cell_type": "markdown",
   "metadata": {},
   "source": [
    "## Section 2 - Load and Visualize Beat Types"
   ]
  },
  {
   "cell_type": "code",
   "execution_count": null,
   "metadata": {},
   "outputs": [],
   "source": [
    "def get_beat_bank(data_dir, beat_table, wanted_type, single_chan=False,\n",
    "                  fixed_width=None, min_len=1):\n",
    "    \"\"\"\n",
    "    Make a beat bank of ecgs by extracting all beats from the records\n",
    "    from MITDB containing at least `min_len` seconds of that type of\n",
    "    beat, according to the table of beat information `beats_df`.\n",
    "\n",
    "    40/48 of the records have channels MLII and V1.\n",
    "    Skip the records with different channels.\n",
    "\n",
    "    \"\"\"\n",
    "    # records with alternative channel sets\n",
    "    ALT_SIG_RECORDS = ['100', '102', '103', '104', '114', '117', '123', '124']\n",
    "\n",
    "    records = beat_table.loc[beat_table[wanted_type]>=min_len].index.values\n",
    "\n",
    "    all_beats, all_centers = [], []\n",
    "    for rec_name in records:\n",
    "        # Skip the records with different channels\n",
    "        if rec_name not in ALT_SIG_RECORDS:\n",
    "            # Load the signals and beat annotations\n",
    "            sig, fields = wfdb.rdsamp(os.path.join(data_dir, rec_name))\n",
    "            ann = wfdb.rdann(os.path.join(data_dir, rec_name), extension='atr')\n",
    "            # Get the peak samples and symbols in a dataframe. Remove the non-beat annotations\n",
    "            qrs_df = ann_to_df(ann, rm_sym=['+', '~'])\n",
    "            # Get the beats and centers of the record\n",
    "            beats, centers = get_beats(sig=sig, qrs_inds=qrs_df['sample'].values,\n",
    "                beat_types=qrs_df['symbol'].values, wanted_type=wanted_type,\n",
    "                single_chan=single_chan, fixed_width=fixed_width)\n",
    "\n",
    "            all_beats += beats\n",
    "            all_centers += centers\n",
    "\n",
    "    return all_beats, all_centers\n"
   ]
  },
  {
   "cell_type": "markdown",
   "metadata": {},
   "source": [
    "### Normal Beats"
   ]
  },
  {
   "cell_type": "code",
   "execution_count": null,
   "metadata": {},
   "outputs": [],
   "source": [
    "n_beats, n_centers = get_beat_bank(data_dir=data_dir, beat_table=beat_table, wanted_type='N')"
   ]
  },
  {
   "cell_type": "code",
   "execution_count": null,
   "metadata": {},
   "outputs": [],
   "source": [
    "for i in range(3):\n",
    "    plot_beat(n_beats[i], n_centers[i], title='Normal Beat')"
   ]
  },
  {
   "cell_type": "markdown",
   "metadata": {},
   "source": [
    "### Left Bundle Branch Block"
   ]
  },
  {
   "cell_type": "code",
   "execution_count": null,
   "metadata": {},
   "outputs": [],
   "source": [
    "l_beats, l_centers = get_beat_bank(data_dir=data_dir, beat_table=beat_table, wanted_type='L')"
   ]
  },
  {
   "cell_type": "code",
   "execution_count": null,
   "metadata": {},
   "outputs": [],
   "source": [
    "for i in range(3):\n",
    "    plot_beat(l_beats[i], l_centers[i], style='C1', title='LBBB')"
   ]
  },
  {
   "cell_type": "markdown",
   "metadata": {},
   "source": [
    "### Right Bundle Branch Block"
   ]
  },
  {
   "cell_type": "code",
   "execution_count": null,
   "metadata": {},
   "outputs": [],
   "source": [
    "r_beats, r_centers = get_beat_bank(data_dir=data_dir, beat_table=beat_table, wanted_type='R')"
   ]
  },
  {
   "cell_type": "code",
   "execution_count": null,
   "metadata": {},
   "outputs": [],
   "source": [
    "for i in range(3):\n",
    "    plot_beat(r_beats[i], r_centers[i], style='C2', title='RBBB')"
   ]
  },
  {
   "cell_type": "markdown",
   "metadata": {},
   "source": [
    "### Ventricular Premature Beat"
   ]
  },
  {
   "cell_type": "code",
   "execution_count": null,
   "metadata": {},
   "outputs": [],
   "source": [
    "v_beats, v_centers = get_beat_bank(data_dir=data_dir, beat_table=beat_table, wanted_type='V')"
   ]
  },
  {
   "cell_type": "code",
   "execution_count": null,
   "metadata": {},
   "outputs": [],
   "source": [
    "for i in range(3):\n",
    "    plot_beat(v_beats[i], v_centers[i], style='C3', title='Ventricular Premature Beat')"
   ]
  },
  {
   "cell_type": "markdown",
   "metadata": {},
   "source": [
    "### Compare all beats"
   ]
  },
  {
   "cell_type": "code",
   "execution_count": null,
   "metadata": {},
   "outputs": [],
   "source": [
    "plot_four_beats(beats=[n_beats[0], l_beats[0], r_beats[0], v_beats[0]],\n",
    "                centers=[n_centers[0], l_centers[0], r_centers[0], v_centers[0]])"
   ]
  },
  {
   "cell_type": "code",
   "execution_count": null,
   "metadata": {},
   "outputs": [],
   "source": []
  },
  {
   "cell_type": "markdown",
   "metadata": {},
   "source": [
    "## Section 3 - Signal Filtering"
   ]
  },
  {
   "cell_type": "code",
   "execution_count": null,
   "metadata": {},
   "outputs": [],
   "source": [
    "def bandpass(sig, fs=360, f_low=0.5, f_high=40, order=4):\n",
    "    \"\"\"\n",
    "    Bandpass filter the signal\n",
    "    \"\"\"\n",
    "    if sig.ndim ==2:\n",
    "        sig_filt = np.zeros(sig.shape)\n",
    "        for ch in range(sig.shape[1]):\n",
    "            sig_filt[:, ch] = bandpass(sig[:, ch], fs, f_low, f_high, order)\n",
    "        return sig_filt\n",
    "\n",
    "    f_nyq = 0.5 * fs\n",
    "    wlow = f_low / f_nyq\n",
    "    whigh = f_high / f_nyq\n",
    "    b, a = butter(order, [wlow, whigh], btype='band')\n",
    "    sig_filt = filtfilt(b, a, sig, axis=0)\n",
    "\n",
    "    return sig_filt"
   ]
  },
  {
   "cell_type": "code",
   "execution_count": null,
   "metadata": {},
   "outputs": [],
   "source": [
    "f_low, f_high = 0.5, 40\n",
    "n_beat_filtered = bandpass(n_beats[0], f_low=f_low, f_high=f_high)\n",
    "l_beat_filtered = bandpass(l_beats[0], f_low=f_low, f_high=f_high)\n",
    "r_beat_filtered = bandpass(r_beats[0], f_low=f_low, f_high=f_high)\n",
    "v_beat_filtered = bandpass(v_beats[0], f_low=f_low, f_high=f_high)"
   ]
  },
  {
   "cell_type": "code",
   "execution_count": null,
   "metadata": {},
   "outputs": [],
   "source": [
    "print('Bandpass filtered beats with cutoff [{}hz, {}hz]'.format(f_low, f_high))\n",
    "plot_four_beats(beats=[n_beat_filtered, l_beat_filtered, r_beat_filtered, v_beat_filtered],\n",
    "                centers=[n_centers[0], l_centers[0], r_centers[0], v_centers[0]])"
   ]
  },
  {
   "cell_type": "markdown",
   "metadata": {},
   "source": [
    "### Task: Tweak the cutoff frequencies with the bandpass filter and visualize the effect on the ECG signals\n"
   ]
  },
  {
   "cell_type": "code",
   "execution_count": null,
   "metadata": {},
   "outputs": [],
   "source": []
  }
 ],
 "metadata": {
  "celltoolbar": "Raw Cell Format",
  "kernelspec": {
   "display_name": "Python 3",
   "language": "python",
   "name": "python3"
  },
  "language_info": {
   "codemirror_mode": {
    "name": "ipython",
    "version": 3
   },
   "file_extension": ".py",
   "mimetype": "text/x-python",
   "name": "python",
   "nbconvert_exporter": "python",
   "pygments_lexer": "ipython3",
   "version": "3.5.2"
  }
 },
 "nbformat": 4,
 "nbformat_minor": 2
}
