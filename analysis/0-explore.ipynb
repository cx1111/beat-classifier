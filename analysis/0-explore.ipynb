{
 "cells": [
  {
   "cell_type": "markdown",
   "metadata": {
    "collapsed": true
   },
   "source": [
    "# Notebook 0 - Introduction to the Data"
   ]
  },
  {
   "cell_type": "markdown",
   "metadata": {},
   "source": [
    "## Section 0 - Import libraries and basic metadata"
   ]
  },
  {
   "cell_type": "code",
   "execution_count": 3,
   "metadata": {
    "scrolled": true
   },
   "outputs": [],
   "source": [
    "import os\n",
    "\n",
    "import matplotlib.pyplot as plt\n",
    "import multiprocessing\n",
    "import numpy as np\n",
    "import pandas as pd\n",
    "import wfdb\n",
    "\n",
    "from bc.beats import get_beats, get_beat_bank\n",
    "from bc.io import ann_to_df\n",
    "from bc.plot import plot_beat, plot_four_beats\n",
    "\n",
    "base_dir = os.path.abspath('..')\n",
    "data_dir = os.path.join(base_dir, 'data')\n",
    "\n",
    "# Table of record names and the beat types they contain\n",
    "beat_table = pd.read_csv(os.path.join(data_dir, 'beat-types.csv'), dtype={'record':object})\n",
    "beat_table.set_index('record', inplace=True)"
   ]
  },
  {
   "cell_type": "markdown",
   "metadata": {},
   "source": [
    "## Section 1 - Inspect signal and annotation content"
   ]
  },
  {
   "cell_type": "code",
   "execution_count": 4,
   "metadata": {},
   "outputs": [
    {
     "data": {
      "text/html": [
       "<div>\n",
       "<style scoped>\n",
       "    .dataframe tbody tr th:only-of-type {\n",
       "        vertical-align: middle;\n",
       "    }\n",
       "\n",
       "    .dataframe tbody tr th {\n",
       "        vertical-align: top;\n",
       "    }\n",
       "\n",
       "    .dataframe thead th {\n",
       "        text-align: right;\n",
       "    }\n",
       "</style>\n",
       "<table border=\"1\" class=\"dataframe\">\n",
       "  <thead>\n",
       "    <tr style=\"text-align: right;\">\n",
       "      <th></th>\n",
       "      <th>label_store</th>\n",
       "      <th>symbol</th>\n",
       "      <th>description</th>\n",
       "      <th>n_occurrences</th>\n",
       "    </tr>\n",
       "  </thead>\n",
       "  <tbody>\n",
       "    <tr>\n",
       "      <th>2</th>\n",
       "      <td>2</td>\n",
       "      <td>L</td>\n",
       "      <td>Left bundle branch block beat</td>\n",
       "      <td>38</td>\n",
       "    </tr>\n",
       "    <tr>\n",
       "      <th>5</th>\n",
       "      <td>5</td>\n",
       "      <td>V</td>\n",
       "      <td>Premature ventricular contraction</td>\n",
       "      <td>1</td>\n",
       "    </tr>\n",
       "  </tbody>\n",
       "</table>\n",
       "</div>"
      ],
      "text/plain": [
       "   label_store symbol                        description  n_occurrences\n",
       "2            2      L      Left bundle branch block beat             38\n",
       "5            5      V  Premature ventricular contraction              1"
      ]
     },
     "metadata": {},
     "output_type": "display_data"
    },
    {
     "data": {
      "text/html": [
       "<div>\n",
       "<style scoped>\n",
       "    .dataframe tbody tr th:only-of-type {\n",
       "        vertical-align: middle;\n",
       "    }\n",
       "\n",
       "    .dataframe tbody tr th {\n",
       "        vertical-align: top;\n",
       "    }\n",
       "\n",
       "    .dataframe thead th {\n",
       "        text-align: right;\n",
       "    }\n",
       "</style>\n",
       "<table border=\"1\" class=\"dataframe\">\n",
       "  <thead>\n",
       "    <tr style=\"text-align: right;\">\n",
       "      <th></th>\n",
       "      <th>label_store</th>\n",
       "      <th>symbol</th>\n",
       "      <th>description</th>\n",
       "      <th>n_occurrences</th>\n",
       "    </tr>\n",
       "  </thead>\n",
       "  <tbody>\n",
       "    <tr>\n",
       "      <th>2</th>\n",
       "      <td>2</td>\n",
       "      <td>L</td>\n",
       "      <td>Left bundle branch block beat</td>\n",
       "      <td>31</td>\n",
       "    </tr>\n",
       "  </tbody>\n",
       "</table>\n",
       "</div>"
      ],
      "text/plain": [
       "   label_store symbol                    description  n_occurrences\n",
       "2            2      L  Left bundle branch block beat             31"
      ]
     },
     "metadata": {},
     "output_type": "display_data"
    },
    {
     "data": {
      "text/html": [
       "<div>\n",
       "<style scoped>\n",
       "    .dataframe tbody tr th:only-of-type {\n",
       "        vertical-align: middle;\n",
       "    }\n",
       "\n",
       "    .dataframe tbody tr th {\n",
       "        vertical-align: top;\n",
       "    }\n",
       "\n",
       "    .dataframe thead th {\n",
       "        text-align: right;\n",
       "    }\n",
       "</style>\n",
       "<table border=\"1\" class=\"dataframe\">\n",
       "  <thead>\n",
       "    <tr style=\"text-align: right;\">\n",
       "      <th></th>\n",
       "      <th>label_store</th>\n",
       "      <th>symbol</th>\n",
       "      <th>description</th>\n",
       "      <th>n_occurrences</th>\n",
       "    </tr>\n",
       "  </thead>\n",
       "  <tbody>\n",
       "    <tr>\n",
       "      <th>2</th>\n",
       "      <td>2</td>\n",
       "      <td>L</td>\n",
       "      <td>Left bundle branch block beat</td>\n",
       "      <td>12</td>\n",
       "    </tr>\n",
       "    <tr>\n",
       "      <th>3</th>\n",
       "      <td>3</td>\n",
       "      <td>R</td>\n",
       "      <td>Right bundle branch block beat</td>\n",
       "      <td>8</td>\n",
       "    </tr>\n",
       "    <tr>\n",
       "      <th>28</th>\n",
       "      <td>28</td>\n",
       "      <td>+</td>\n",
       "      <td>Rhythm change</td>\n",
       "      <td>4</td>\n",
       "    </tr>\n",
       "    <tr>\n",
       "      <th>5</th>\n",
       "      <td>5</td>\n",
       "      <td>V</td>\n",
       "      <td>Premature ventricular contraction</td>\n",
       "      <td>13</td>\n",
       "    </tr>\n",
       "  </tbody>\n",
       "</table>\n",
       "</div>"
      ],
      "text/plain": [
       "    label_store symbol                        description  n_occurrences\n",
       "2             2      L      Left bundle branch block beat             12\n",
       "3             3      R     Right bundle branch block beat              8\n",
       "28           28      +                      Rhythm change              4\n",
       "5             5      V  Premature ventricular contraction             13"
      ]
     },
     "metadata": {},
     "output_type": "display_data"
    },
    {
     "data": {
      "text/html": [
       "<div>\n",
       "<style scoped>\n",
       "    .dataframe tbody tr th:only-of-type {\n",
       "        vertical-align: middle;\n",
       "    }\n",
       "\n",
       "    .dataframe tbody tr th {\n",
       "        vertical-align: top;\n",
       "    }\n",
       "\n",
       "    .dataframe thead th {\n",
       "        text-align: right;\n",
       "    }\n",
       "</style>\n",
       "<table border=\"1\" class=\"dataframe\">\n",
       "  <thead>\n",
       "    <tr style=\"text-align: right;\">\n",
       "      <th></th>\n",
       "      <th>label_store</th>\n",
       "      <th>symbol</th>\n",
       "      <th>description</th>\n",
       "      <th>n_occurrences</th>\n",
       "    </tr>\n",
       "  </thead>\n",
       "  <tbody>\n",
       "    <tr>\n",
       "      <th>2</th>\n",
       "      <td>2</td>\n",
       "      <td>L</td>\n",
       "      <td>Left bundle branch block beat</td>\n",
       "      <td>31</td>\n",
       "    </tr>\n",
       "    <tr>\n",
       "      <th>28</th>\n",
       "      <td>28</td>\n",
       "      <td>+</td>\n",
       "      <td>Rhythm change</td>\n",
       "      <td>2</td>\n",
       "    </tr>\n",
       "    <tr>\n",
       "      <th>5</th>\n",
       "      <td>5</td>\n",
       "      <td>V</td>\n",
       "      <td>Premature ventricular contraction</td>\n",
       "      <td>5</td>\n",
       "    </tr>\n",
       "    <tr>\n",
       "      <th>14</th>\n",
       "      <td>14</td>\n",
       "      <td>~</td>\n",
       "      <td>Signal quality change</td>\n",
       "      <td>4</td>\n",
       "    </tr>\n",
       "  </tbody>\n",
       "</table>\n",
       "</div>"
      ],
      "text/plain": [
       "    label_store symbol                        description  n_occurrences\n",
       "2             2      L      Left bundle branch block beat             31\n",
       "28           28      +                      Rhythm change              2\n",
       "5             5      V  Premature ventricular contraction              5\n",
       "14           14      ~              Signal quality change              4"
      ]
     },
     "metadata": {},
     "output_type": "display_data"
    }
   ],
   "source": [
    "# Records with L: Left bundle branch block beat\n",
    "l_records = beat_table.loc[beat_table['L']>0].index.values\n",
    "\n",
    "# Visualize some records and annotations\n",
    "for rec_name in l_records:\n",
    "    # Load the signals and L beat annotations\n",
    "    rec = wfdb.rdrecord(os.path.join(data_dir, rec_name), sampfrom=22000, sampto=32000)\n",
    "    ann = wfdb.rdann(os.path.join(data_dir, rec_name), extension='atr',\n",
    "                     sampfrom=22000, sampto=32000, shift_samps=True, summarize_labels=True)\n",
    "    # Show the annotations contained in the files\n",
    "    display(ann.contained_labels)\n",
    "    # Get the peak samples and symbols in a dataframe. Keep only L beats.\n",
    "    qrs_df = ann_to_df(ann, rm_sym=['+'])\n",
    "    wfdb.plot_wfdb(record=rec, annotation=ann, plot_sym=True)     "
   ]
  },
  {
   "cell_type": "code",
   "execution_count": 5,
   "metadata": {},
   "outputs": [
    {
     "name": "stdout",
     "output_type": "stream",
     "text": [
      "len_left: 86 len_right: 219\n",
      "len_left: 94 len_right: 220\n",
      "len_left: 94 len_right: 220\n",
      "len_left: 94 len_right: 221\n",
      "len_left: 95 len_right: 208\n",
      "len_left: 89 len_right: 161\n",
      "len_left: 103 len_right: 194\n",
      "len_left: 83 len_right: 194\n"
     ]
    }
   ],
   "source": [
    "# Load a record, extract some beats, and view them.\n",
    "sig, fields = wfdb.rdsamp(os.path.join(data_dir, rec_name), sampto=3000)\n",
    "ann = wfdb.rdann(os.path.join(data_dir, rec_name), extension='atr', sampto=3000)\n",
    "# Get the peak samples and symbols in a dataframe. Remove the non-beat annotations\n",
    "qrs_df = ann_to_df(ann, rm_sym=['+', '~'])\n",
    "beats, centers = get_beats(sig=sig[:, 0], qrs_inds=qrs_df['sample'].values, \n",
    "                           beat_types = qrs_df['symbol'].values, wanted_type='L',\n",
    "                           view=True)"
   ]
  },
  {
   "cell_type": "code",
   "execution_count": null,
   "metadata": {},
   "outputs": [],
   "source": []
  },
  {
   "cell_type": "markdown",
   "metadata": {},
   "source": [
    "## Section 2 - Load and Visualize Beat Types"
   ]
  },
  {
   "cell_type": "code",
   "execution_count": 6,
   "metadata": {},
   "outputs": [],
   "source": [
    "# Extract all available L beats\n",
    "l_beats, l_centers = [], []\n",
    "for rec_name in l_records:\n",
    "    # Load the signals and L beat annotations\n",
    "    sig, fields = wfdb.rdsamp(os.path.join(data_dir, rec_name))\n",
    "    ann = wfdb.rdann(os.path.join(data_dir, rec_name), extension='atr')\n",
    "    # Get the peak samples and symbols in a dataframe. Remove the non-beat annotations\n",
    "    qrs_df = ann_to_df(ann, rm_sym=['+', '~'])\n",
    "    beats, centers = get_beats(sig=sig[:, 0], qrs_inds=qrs_df['sample'].values, \n",
    "                           beat_types = qrs_df['symbol'].values, wanted_type='L')\n",
    "    l_beats += beats\n",
    "    l_centers += centers"
   ]
  },
  {
   "cell_type": "markdown",
   "metadata": {},
   "source": [
    "### Normal Beats"
   ]
  },
  {
   "cell_type": "code",
   "execution_count": 7,
   "metadata": {},
   "outputs": [],
   "source": [
    "n_beats, n_centers = get_beat_bank(data_dir=data_dir, beat_table=beat_table, wanted_type='N')"
   ]
  },
  {
   "cell_type": "code",
   "execution_count": 8,
   "metadata": {},
   "outputs": [],
   "source": [
    "for i in range(4):\n",
    "    plot_beat(n_beats[i], n_centers[i], title='Normal Beat')"
   ]
  },
  {
   "cell_type": "markdown",
   "metadata": {},
   "source": [
    "### Left Bundle Branch Block"
   ]
  },
  {
   "cell_type": "code",
   "execution_count": 9,
   "metadata": {},
   "outputs": [],
   "source": [
    "l_beats, l_centers = get_beat_bank(data_dir=data_dir, beat_table=beat_table, wanted_type='L')"
   ]
  },
  {
   "cell_type": "code",
   "execution_count": 10,
   "metadata": {},
   "outputs": [],
   "source": [
    "for i in range(5):\n",
    "    plot_beat(l_beats[i], l_centers[i], style='C1', title='LBBB')"
   ]
  },
  {
   "cell_type": "markdown",
   "metadata": {},
   "source": [
    "### Right Bundle Branch Block"
   ]
  },
  {
   "cell_type": "code",
   "execution_count": 11,
   "metadata": {},
   "outputs": [],
   "source": [
    "r_beats, r_centers = get_beat_bank(data_dir=data_dir, beat_table=beat_table, wanted_type='R')"
   ]
  },
  {
   "cell_type": "code",
   "execution_count": 12,
   "metadata": {},
   "outputs": [],
   "source": [
    "for i in range(4):\n",
    "    plot_beat(r_beats[i], r_centers[i], style='C2', title='RBBB')"
   ]
  },
  {
   "cell_type": "markdown",
   "metadata": {},
   "source": [
    "### Ventricular Premature Beat"
   ]
  },
  {
   "cell_type": "code",
   "execution_count": 13,
   "metadata": {},
   "outputs": [],
   "source": [
    "v_beats, v_centers = get_beat_bank(data_dir=data_dir, beat_table=beat_table, wanted_type='V')"
   ]
  },
  {
   "cell_type": "code",
   "execution_count": 14,
   "metadata": {},
   "outputs": [
    {
     "name": "stderr",
     "output_type": "stream",
     "text": [
      "/home/cx1111/Software/python-envs/p35/lib/python3.5/site-packages/matplotlib/pyplot.py:537: RuntimeWarning: More than 20 figures have been opened. Figures created through the pyplot interface (`matplotlib.pyplot.figure`) are retained until explicitly closed and may consume too much memory. (To control this warning, see the rcParam `figure.max_open_warning`).\n",
      "  max_open_warning, RuntimeWarning)\n"
     ]
    }
   ],
   "source": [
    "for i in range(4):\n",
    "    plot_beat(v_beats[i], v_centers[i], style='C3', title='Ventricular Premature Beat')"
   ]
  },
  {
   "cell_type": "code",
   "execution_count": 15,
   "metadata": {},
   "outputs": [],
   "source": [
    "%matplotlib qt"
   ]
  },
  {
   "cell_type": "code",
   "execution_count": 16,
   "metadata": {},
   "outputs": [],
   "source": [
    "# Compare all beats\n",
    "plot_four_beats(beats=[n_beats[0], l_beats[0], r_beats[0], v_beats[0]],\n",
    "                centers=[n_centers[0], l_centers[0], r_centers[0], v_centers[0]])"
   ]
  },
  {
   "cell_type": "code",
   "execution_count": null,
   "metadata": {},
   "outputs": [],
   "source": []
  },
  {
   "cell_type": "code",
   "execution_count": null,
   "metadata": {},
   "outputs": [],
   "source": []
  }
 ],
 "metadata": {
  "celltoolbar": "Raw Cell Format",
  "kernelspec": {
   "display_name": "Python 3",
   "language": "python",
   "name": "python3"
  },
  "language_info": {
   "codemirror_mode": {
    "name": "ipython",
    "version": 3
   },
   "file_extension": ".py",
   "mimetype": "text/x-python",
   "name": "python",
   "nbconvert_exporter": "python",
   "pygments_lexer": "ipython3",
   "version": "3.5.2"
  }
 },
 "nbformat": 4,
 "nbformat_minor": 2
}
