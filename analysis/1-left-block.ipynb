{
 "cells": [
  {
   "cell_type": "markdown",
   "metadata": {},
   "source": [
    "# Left Bundle Branch Block"
   ]
  },
  {
   "cell_type": "code",
   "execution_count": 1,
   "metadata": {},
   "outputs": [],
   "source": [
    "import os\n",
    "import pdb\n",
    "\n",
    "import matplotlib\n",
    "matplotlib.use('qt5agg')\n",
    "import matplotlib.pyplot as plt\n",
    "import numpy as np\n",
    "import pandas as pd\n",
    "from scipy.signal import hilbert, periodogram\n",
    "import wfdb\n",
    "\n",
    "from bc.beats import get_beats, get_beat_bank\n",
    "from bc.io import ann_to_df\n",
    "from bc.plot import plot_beat\n",
    "from bc.preprocess import bandpass, normalize\n",
    "\n",
    "base_dir = os.path.abspath('..')\n",
    "data_dir = os.path.join(base_dir, 'data')\n",
    "\n",
    "# Table of record names and the beat types they contain\n",
    "beat_table = pd.read_csv(os.path.join(data_dir, 'beat-types.csv'), dtype={'record':object})\n",
    "beat_table.set_index('record', inplace=True)"
   ]
  },
  {
   "cell_type": "code",
   "execution_count": 2,
   "metadata": {},
   "outputs": [],
   "source": [
    "import matplotlib"
   ]
  },
  {
   "cell_type": "code",
   "execution_count": null,
   "metadata": {},
   "outputs": [],
   "source": [
    "print(matplotlib.rcsetup.all_backends, '\\n\\n')\n",
    "print(matplotlib.get_backend(), '\\n\\n')"
   ]
  },
  {
   "cell_type": "code",
   "execution_count": 2,
   "metadata": {},
   "outputs": [],
   "source": [
    "# Normal beats\n",
    "n_beats, n_centers = get_beat_bank(data_dir=data_dir, beat_table=beat_table, wanted_type='N')\n",
    "for i in range(5):\n",
    "    #plt.figure()\n",
    "    #plt.plot(n_beats[i])\n",
    "    # plt.plot(n_centers[i], n_beats[i][n_centers[i]], 'r*')\n",
    "    #plt.show()\n",
    "    plot_beat(n_beats[i], n_centers[i])"
   ]
  },
  {
   "cell_type": "code",
   "execution_count": null,
   "metadata": {},
   "outputs": [],
   "source": []
  },
  {
   "cell_type": "code",
   "execution_count": 21,
   "metadata": {},
   "outputs": [],
   "source": [
    "# Left bundle branch block beats\n",
    "l_beats, l_centers = get_beat_bank(data_dir=data_dir, beat_table=beat_table, wanted_type='L')\n",
    "for i in range(5):\n",
    "#     plt.figure()\n",
    "#     plt.plot(l_beats[i])\n",
    "#     plt.plot(l_centers[i], l_beats[i][l_centers[i]], 'r*')\n",
    "#     plt.show()\n",
    "    plot_beat(l_beats[i], l_centers[i])"
   ]
  },
  {
   "cell_type": "code",
   "execution_count": null,
   "metadata": {},
   "outputs": [],
   "source": [
    "for i in range(1):\n",
    "    plt.figure()\n",
    "    plt.plot(n_beats[i])\n",
    "    plt.plot(n_centers[i], n_beats[i][n_centers[i]], 'r*')\n",
    "    plt.show()"
   ]
  },
  {
   "cell_type": "code",
   "execution_count": null,
   "metadata": {},
   "outputs": [],
   "source": [
    "sig, qrs_p = n_beats[0], n_centers[0]"
   ]
  },
  {
   "cell_type": "code",
   "execution_count": 10,
   "metadata": {},
   "outputs": [],
   "source": [
    "def right_indicator(env, env_p, W):\n",
    "    \"\"\"\n",
    "    Given the windowed envelop signal env(t), and its peak env_p,\n",
    "    compute the indicator function:\n",
    "    A(t) = integral[t-W, t] [env(T) − env(t)]dT\n",
    "    for the right segment of the envelope peak\n",
    "    \"\"\"\n",
    "    # First check that the window doesn't overlap past the signal start\n",
    "    # from the envelope peak\n",
    "    i00 = env_p + 1 - W\n",
    "    if i00 < 0:\n",
    "        raise Exception('Window too large')\n",
    "    \n",
    "    a = np.zeros(len(env))\n",
    "    \n",
    "    # We only calculate a for values right of the envelope peak\n",
    "    for t in range(env_p+1, len(env)):\n",
    "        i0 = t - W\n",
    "        a[t] = np.sum(env[i0:t]) - (env[t] * W)\n",
    "        # a[t] = np.sum((env(T) - env(t)) for T in range(max(0, t-W), t))\n",
    "        \n",
    "    return a\n",
    "\n",
    "\n",
    "def left_indicator(env, env_p, W):\n",
    "    \"\"\"\n",
    "    Given the windowed envelop signal env(t), and its peak env_p,\n",
    "    compute the indicator function:\n",
    "    A(t) = integral[t, t+W] [env(T) − env(t)]dT\n",
    "    for the left segment of the envelope peak\n",
    "    \"\"\"\n",
    "    # First check that the window doesn't overlap past the signal end\n",
    "    # from the envelope peak. Otherwise pad the signal to the right\n",
    "    i11 = env_p - 1 + W\n",
    "    overlap_len = i11 - len(env)\n",
    "    if overlap_len > 0:\n",
    "        env = np.append(env, np.repeat(env[-1], overlap_len))\n",
    "    \n",
    "    a = np.zeros(len(env))\n",
    "    \n",
    "    # We only calculate a for values left of the envelope peak\n",
    "    for t in range(env_p-1):\n",
    "        i1 = t + W\n",
    "        a[t] = np.sum(env[t:i1]) - (env[t] * W)\n",
    "        \n",
    "    return a\n",
    "\n",
    "def segment_beat(sig, qrs_p, fs=360, qrs_win_0=0.3, qrs_win_1=0.15,\n",
    "                 max_qrs_duration=0.2):\n",
    "    \"\"\"\n",
    "    Segment qrs_0 qrs_1\n",
    "    \n",
    "    Parameters\n",
    "    ----------\n",
    "    sig : the ecg beat signal\n",
    "    qrs_p : the qrs peak index\n",
    "    fs : sampling frequency of the signal\n",
    "    qrs_win_0 : the search window for qrs onset, left of the peak\n",
    "    qrs_win_1 : the search window for qrs offset, right of the peak\n",
    "    max_qrs_t : maximum possible qrs time in seconds\n",
    "    \n",
    "    \"\"\"\n",
    "    sig_len = len(sig)\n",
    "    \n",
    "    # Filter the signal\n",
    "    sig_f = bandpass(sig=sig, fs=fs, f_low=0.5, f_high=40, order=4)\n",
    "    #sig_f = sig\n",
    "    # Compute the envelope signal\n",
    "    sig_h = hilbert(sig)\n",
    "    sig_e = (sig_f**2 + np.abs(sig_h)**2) ** 0.5\n",
    "    \n",
    "    # Window the envelope signal based on the max possible qrs width\n",
    "    # window_len = max_qrs_duration * fs\n",
    "    \n",
    "    # Window the envelope signal\n",
    "    i0 = max(0, qrs_p-int(qrs_win_0*fs))\n",
    "    i1 = min(qrs_p+int(qrs_win_1*fs), sig_len)\n",
    "    env = sig_e[i0:i1]\n",
    "    \n",
    "    # The peak index of the envelope\n",
    "    env_p = np.where(env==np.max(env))[0][0]\n",
    "    \n",
    "    # Ultimately we want (t2 − tp) < W < (t2 - t1) \n",
    "    # The initial W needs to satisfy condition 1 and be larger than qrs1 - qrs_p\n",
    "    # so half the max qrs duration should be big enough\n",
    "    W0 = int(max_qrs_duration * fs / 2)\n",
    "    # a = right_indicator(env=env, env_p=qrs_p-i0, W=W0)\n",
    "    a = right_indicator(env=env, env_p=env_p, W=W0)\n",
    "    # Get the point where a is max\n",
    "    a_max = np.where(a==np.max(a))[0][0]\n",
    "    \n",
    "    # The second W should satisfy both conditions.\n",
    "    # Set it to be a_max - env_p\n",
    "    W1 = a_max - env_p\n",
    "    a = right_indicator(env=env, env_p=env_p, W=W1)\n",
    "    # This time, we take the location where the indicator is max\n",
    "    # to be the final answer (adjust to start of full signal)\n",
    "    qrs_1 = np.where(a==np.max(a))[0][0] + i0\n",
    "    \n",
    "    # Now do the left. Bigger starting window.\n",
    "    W0 = int(max_qrs_duration * fs * 1)\n",
    "    a = left_indicator(env=env, env_p=env_p, W=W0)\n",
    "    a_max = np.where(a==np.max(a))[0][0]\n",
    "    W1 = env_p - a_max\n",
    "    a = left_indicator(env=env, env_p=env_p, W=W1)\n",
    "    qrs_0 = np.where(a==np.max(a))[0][0]\n",
    "    \n",
    "    # Compute the \n",
    "    \n",
    "    \n",
    "    # return sig_f, sig_h, sig_e, env, qrs_0, qrs_1\n",
    "    return qrs_0, qrs_1\n"
   ]
  },
  {
   "cell_type": "code",
   "execution_count": null,
   "metadata": {},
   "outputs": [],
   "source": [
    "plt.figure()\n",
    "plt.plot(env, 'b')\n",
    "plt.show()"
   ]
  },
  {
   "cell_type": "code",
   "execution_count": null,
   "metadata": {},
   "outputs": [],
   "source": [
    "# Normal Beats\n",
    "for i in range(10):\n",
    "    print(i)\n",
    "    s, p = n_beats[i], n_centers[i]\n",
    "    sig_f, sig_h, sig_e, env, qrs_0, qrs_1 = segment_beat(s, p, fs=360, max_qrs_duration=0.2)\n",
    "    plt.figure()\n",
    "    plt.plot(s, 'b')\n",
    "    plt.plot(sig_f, 'g')\n",
    "    plt.plot(sig_e, 'k')\n",
    "    plt.plot(p, s[p], 'k*')\n",
    "    plt.plot(qrs_0, s[qrs_0], 'r*')\n",
    "    plt.plot(qrs_1, s[qrs_1], 'r*')\n",
    "    plt.show()\n",
    "    # 2 3 9 early, 6 late for normal"
   ]
  },
  {
   "cell_type": "code",
   "execution_count": null,
   "metadata": {},
   "outputs": [],
   "source": [
    "# L beats\n",
    "# Problem: The hilbert transform is not a good envelope function for \n",
    "# bundle branch block\n",
    "for i in range(10):\n",
    "    print(i)\n",
    "    s, p = l_beats[i], l_centers[i]\n",
    "    sig_f, sig_h, sig_e, env, qrs_0, qrs_1 = segment_beat(s, p, fs=360, max_qrs_duration=0.2)\n",
    "    plt.figure()\n",
    "    plt.plot(s, 'b')\n",
    "    plt.plot(sig_f, 'g')\n",
    "    plt.plot(sig_e, 'k')\n",
    "    plt.plot(p, s[p], 'k*')\n",
    "    plt.plot(qrs_0, s[qrs_0], 'r*')\n",
    "    plt.plot(qrs_1, s[qrs_1], 'r*')\n",
    "    plt.show()"
   ]
  },
  {
   "cell_type": "code",
   "execution_count": null,
   "metadata": {},
   "outputs": [],
   "source": []
  },
  {
   "cell_type": "code",
   "execution_count": null,
   "metadata": {},
   "outputs": [],
   "source": [
    "plt.plot(l_beats[0])\n",
    "plt.show()"
   ]
  },
  {
   "cell_type": "code",
   "execution_count": null,
   "metadata": {},
   "outputs": [],
   "source": [
    "f, pxx = periodogram(n_beats[0], fs=360)\n",
    "plt.figure()\n",
    "plt.plot(f[:int(len(f)/4)], pxx[:int(len(f)/4)])\n",
    "plt.show()"
   ]
  },
  {
   "cell_type": "code",
   "execution_count": null,
   "metadata": {},
   "outputs": [],
   "source": [
    "f, pxx = periodogram(l_beats[0], fs=360)\n",
    "plt.figure()\n",
    "plt.plot(f[:int(len(f)/4)], pxx[:int(len(f)/4)])\n",
    "plt.show()"
   ]
  },
  {
   "cell_type": "code",
   "execution_count": null,
   "metadata": {},
   "outputs": [],
   "source": [
    "w0 = np.array([0, 1, 2, 3, 4, 5, 6, 5, 4, 3])\n",
    "w1 = np.array([0, -1, -2, -3, -4, -5, -6, -5, -4, -3])"
   ]
  },
  {
   "cell_type": "code",
   "execution_count": null,
   "metadata": {},
   "outputs": [],
   "source": [
    "# Flat, concave, convex\n",
    "def is_convex()\n",
    "\n"
   ]
  },
  {
   "cell_type": "code",
   "execution_count": 7,
   "metadata": {},
   "outputs": [
    {
     "ename": "NameError",
     "evalue": "name 'signal' is not defined",
     "output_type": "error",
     "traceback": [
      "\u001b[0;31m---------------------------------------------------------------------------\u001b[0m",
      "\u001b[0;31mNameError\u001b[0m                                 Traceback (most recent call last)",
      "\u001b[0;32m<ipython-input-7-bdf9d2eee705>\u001b[0m in \u001b[0;36m<module>\u001b[0;34m()\u001b[0m\n\u001b[1;32m      1\u001b[0m \u001b[0;31m# OLD\u001b[0m\u001b[0;34m\u001b[0m\u001b[0;34m\u001b[0m\u001b[0m\n\u001b[1;32m      2\u001b[0m \u001b[0;31m# sig_smooth = signal.filtfilt(b=[1] * 10, a=[1], x=sig) / 40\u001b[0m\u001b[0;34m\u001b[0m\u001b[0;34m\u001b[0m\u001b[0m\n\u001b[0;32m----> 3\u001b[0;31m \u001b[0manalytic_signal\u001b[0m \u001b[0;34m=\u001b[0m \u001b[0msignal\u001b[0m\u001b[0;34m.\u001b[0m\u001b[0mhilbert\u001b[0m\u001b[0;34m(\u001b[0m\u001b[0msig\u001b[0m\u001b[0;34m)\u001b[0m\u001b[0;34m\u001b[0m\u001b[0m\n\u001b[0m\u001b[1;32m      4\u001b[0m \u001b[0;34m\u001b[0m\u001b[0m\n\u001b[1;32m      5\u001b[0m \u001b[0mamplitude_envelope\u001b[0m \u001b[0;34m=\u001b[0m \u001b[0mnp\u001b[0m\u001b[0;34m.\u001b[0m\u001b[0mabs\u001b[0m\u001b[0;34m(\u001b[0m\u001b[0manalytic_signal\u001b[0m\u001b[0;34m)\u001b[0m\u001b[0;34m\u001b[0m\u001b[0m\n",
      "\u001b[0;31mNameError\u001b[0m: name 'signal' is not defined"
     ]
    }
   ],
   "source": [
    "# OLD\n",
    "# sig_smooth = signal.filtfilt(b=[1] * 10, a=[1], x=sig) / 40\n",
    "analytic_signal = signal.hilbert(sig)\n",
    "\n",
    "amplitude_envelope = np.abs(analytic_signal)\n",
    "\n",
    "def segment_beat(sig, qrs_ind, fs=360, max_qrs_duration=0.2):\n",
    "    \"\"\"\n",
    "    Segment a single heartbeat, given the signal and its qrs index\n",
    "    \"\"\"\n",
    "    # Moving average samples\n",
    "    \n",
    "    \n",
    "    ma_samps = 10\n",
    "    sig = signal.filtfilt(b=[1] * ma_samps, a=[1], x=sig)\n",
    "    \n",
    "    # Isolate the qrs complex\n",
    "    max_qrs_width = int(max_qrs_duration * fs)\n",
    "    h_max_qrs_width = max_qrs_width // 2\n",
    "    \n",
    "    dy = np.diff(sig)\n",
    "    abs_dy = dy ** 2\n",
    "    \n",
    "    print(max_qrs_width, h_max_qrs_width)\n",
    "    # Crawl left and right until the moving average gradient remains relatively flat\n",
    "    # Left\n",
    "    for i in range(qrs_ind, qrs_ind-h_max_qrs_width, -1):\n",
    "        ma_gradient_l = np.mean(abs_dy[i-ma_samps:i])\n",
    "        ma_gradient_r = np.mean(abs_dy[i+1:i+1+ma_samps])\n",
    "        print(i, ma_gradient_l, ma_gradient_r, ma_gradient_l / ma_gradient_r)\n",
    "        if (ma_gradient_l / ma_gradient_r) < 0.05:\n",
    "            qrs_lim_0 = i\n",
    "            break\n",
    "    # Didn't manage to find limit\n",
    "    else:\n",
    "        print('dah')\n",
    "        qrs_lim_0 = qrs_ind - h_max_qrs_width\n",
    "    \n",
    "    print('\\n\\n Moving right \\n\\n')\n",
    "    # Right\n",
    "    ma_gradient_prev = np.mean(abs_dy[qrs_ind-h_max_qrs_width:qrs_ind+h_max_qrs_width])\n",
    "    for i in range(qrs_ind, qrs_ind+h_max_qrs_width):\n",
    "        ma_gradient_current = np.mean(abs_dy[i:i+ma_samps])\n",
    "        print(ma_gradient_current, ma_gradient_prev, ma_gradient_current / ma_gradient_prev)\n",
    "        if ma_gradient_current < ma_gradient_prev * .15:\n",
    "            qrs_lim_1 = i\n",
    "            break\n",
    "        ma_gradient_prev = ma_gradient_current\n",
    "    # Didn't manage to find limit\n",
    "    else:\n",
    "        print('doh')\n",
    "        qrs_lim_1 = qrs_ind + h_max_qrs_width\n",
    "\n",
    "    # Assume the \n",
    "    \n",
    "    \n",
    "    # Figure out whether the qrs complex points up or down\n",
    "    \n",
    "    return qrs_lim_0, qrs_lim_1"
   ]
  },
  {
   "cell_type": "code",
   "execution_count": 18,
   "metadata": {},
   "outputs": [
    {
     "ename": "Exception",
     "evalue": "Window too large",
     "output_type": "error",
     "traceback": [
      "\u001b[0;31m---------------------------------------------------------------------------\u001b[0m",
      "\u001b[0;31mException\u001b[0m                                 Traceback (most recent call last)",
      "\u001b[0;32m<ipython-input-18-3fc3ed41a66a>\u001b[0m in \u001b[0;36m<module>\u001b[0;34m()\u001b[0m\n\u001b[1;32m      2\u001b[0m \u001b[0mqrs_widths\u001b[0m \u001b[0;34m=\u001b[0m \u001b[0;34m[\u001b[0m\u001b[0;34m]\u001b[0m\u001b[0;34m\u001b[0m\u001b[0m\n\u001b[1;32m      3\u001b[0m \u001b[0;32mfor\u001b[0m \u001b[0mi\u001b[0m \u001b[0;32min\u001b[0m \u001b[0mrange\u001b[0m\u001b[0;34m(\u001b[0m\u001b[0mlen\u001b[0m\u001b[0;34m(\u001b[0m\u001b[0mn_beats\u001b[0m\u001b[0;34m)\u001b[0m\u001b[0;34m)\u001b[0m\u001b[0;34m:\u001b[0m\u001b[0;34m\u001b[0m\u001b[0m\n\u001b[0;32m----> 4\u001b[0;31m     \u001b[0mqrs0\u001b[0m\u001b[0;34m,\u001b[0m \u001b[0mqrs1\u001b[0m \u001b[0;34m=\u001b[0m \u001b[0msegment_beat\u001b[0m\u001b[0;34m(\u001b[0m\u001b[0mn_beats\u001b[0m\u001b[0;34m[\u001b[0m\u001b[0mi\u001b[0m\u001b[0;34m]\u001b[0m\u001b[0;34m[\u001b[0m\u001b[0;34m:\u001b[0m\u001b[0;34m,\u001b[0m \u001b[0;36m0\u001b[0m\u001b[0;34m]\u001b[0m\u001b[0;34m,\u001b[0m \u001b[0mn_centers\u001b[0m\u001b[0;34m[\u001b[0m\u001b[0mi\u001b[0m\u001b[0;34m]\u001b[0m\u001b[0;34m,\u001b[0m \u001b[0mmax_qrs_duration\u001b[0m\u001b[0;34m=\u001b[0m\u001b[0;36m0.01\u001b[0m\u001b[0;34m)\u001b[0m\u001b[0;34m\u001b[0m\u001b[0m\n\u001b[0m\u001b[1;32m      5\u001b[0m     \u001b[0mqrs_widths\u001b[0m\u001b[0;34m.\u001b[0m\u001b[0mappend\u001b[0m\u001b[0;34m(\u001b[0m\u001b[0mqrs1\u001b[0m \u001b[0;34m-\u001b[0m \u001b[0mqrs0\u001b[0m\u001b[0;34m)\u001b[0m\u001b[0;34m\u001b[0m\u001b[0m\n\u001b[1;32m      6\u001b[0m \u001b[0;34m\u001b[0m\u001b[0m\n",
      "\u001b[0;32m<ipython-input-10-340634c526f6>\u001b[0m in \u001b[0;36msegment_beat\u001b[0;34m(sig, qrs_p, fs, qrs_win_0, qrs_win_1, max_qrs_duration)\u001b[0m\n\u001b[1;32m     93\u001b[0m     \u001b[0;31m# Set it to be a_max - env_p\u001b[0m\u001b[0;34m\u001b[0m\u001b[0;34m\u001b[0m\u001b[0m\n\u001b[1;32m     94\u001b[0m     \u001b[0mW1\u001b[0m \u001b[0;34m=\u001b[0m \u001b[0ma_max\u001b[0m \u001b[0;34m-\u001b[0m \u001b[0menv_p\u001b[0m\u001b[0;34m\u001b[0m\u001b[0m\n\u001b[0;32m---> 95\u001b[0;31m     \u001b[0ma\u001b[0m \u001b[0;34m=\u001b[0m \u001b[0mright_indicator\u001b[0m\u001b[0;34m(\u001b[0m\u001b[0menv\u001b[0m\u001b[0;34m=\u001b[0m\u001b[0menv\u001b[0m\u001b[0;34m,\u001b[0m \u001b[0menv_p\u001b[0m\u001b[0;34m=\u001b[0m\u001b[0menv_p\u001b[0m\u001b[0;34m,\u001b[0m \u001b[0mW\u001b[0m\u001b[0;34m=\u001b[0m\u001b[0mW1\u001b[0m\u001b[0;34m)\u001b[0m\u001b[0;34m\u001b[0m\u001b[0m\n\u001b[0m\u001b[1;32m     96\u001b[0m     \u001b[0;31m# This time, we take the location where the indicator is max\u001b[0m\u001b[0;34m\u001b[0m\u001b[0;34m\u001b[0m\u001b[0m\n\u001b[1;32m     97\u001b[0m     \u001b[0;31m# to be the final answer (adjust to start of full signal)\u001b[0m\u001b[0;34m\u001b[0m\u001b[0;34m\u001b[0m\u001b[0m\n",
      "\u001b[0;32m<ipython-input-10-340634c526f6>\u001b[0m in \u001b[0;36mright_indicator\u001b[0;34m(env, env_p, W)\u001b[0m\n\u001b[1;32m     10\u001b[0m     \u001b[0mi00\u001b[0m \u001b[0;34m=\u001b[0m \u001b[0menv_p\u001b[0m \u001b[0;34m+\u001b[0m \u001b[0;36m1\u001b[0m \u001b[0;34m-\u001b[0m \u001b[0mW\u001b[0m\u001b[0;34m\u001b[0m\u001b[0m\n\u001b[1;32m     11\u001b[0m     \u001b[0;32mif\u001b[0m \u001b[0mi00\u001b[0m \u001b[0;34m<\u001b[0m \u001b[0;36m0\u001b[0m\u001b[0;34m:\u001b[0m\u001b[0;34m\u001b[0m\u001b[0m\n\u001b[0;32m---> 12\u001b[0;31m         \u001b[0;32mraise\u001b[0m \u001b[0mException\u001b[0m\u001b[0;34m(\u001b[0m\u001b[0;34m'Window too large'\u001b[0m\u001b[0;34m)\u001b[0m\u001b[0;34m\u001b[0m\u001b[0m\n\u001b[0m\u001b[1;32m     13\u001b[0m \u001b[0;34m\u001b[0m\u001b[0m\n\u001b[1;32m     14\u001b[0m     \u001b[0ma\u001b[0m \u001b[0;34m=\u001b[0m \u001b[0mnp\u001b[0m\u001b[0;34m.\u001b[0m\u001b[0mzeros\u001b[0m\u001b[0;34m(\u001b[0m\u001b[0mlen\u001b[0m\u001b[0;34m(\u001b[0m\u001b[0menv\u001b[0m\u001b[0;34m)\u001b[0m\u001b[0;34m)\u001b[0m\u001b[0;34m\u001b[0m\u001b[0m\n",
      "\u001b[0;31mException\u001b[0m: Window too large"
     ]
    }
   ],
   "source": [
    "# qrs_lims = segment_beat(b[:, 0] for b in n_beats)\n",
    "qrs_widths = []\n",
    "for i in range(len(n_beats)):\n",
    "    qrs0, qrs1 = segment_beat(n_beats[i][:, 0], n_centers[i], max_qrs_duration=0.05)\n",
    "    qrs_widths.append(qrs1 - qrs0)\n",
    "\n",
    "\n",
    "\n",
    "\n",
    "\n",
    "\n",
    "\n"
   ]
  },
  {
   "cell_type": "code",
   "execution_count": null,
   "metadata": {},
   "outputs": [],
   "source": []
  },
  {
   "cell_type": "code",
   "execution_count": null,
   "metadata": {},
   "outputs": [],
   "source": []
  },
  {
   "cell_type": "code",
   "execution_count": null,
   "metadata": {},
   "outputs": [],
   "source": []
  },
  {
   "cell_type": "code",
   "execution_count": null,
   "metadata": {},
   "outputs": [],
   "source": []
  },
  {
   "cell_type": "code",
   "execution_count": null,
   "metadata": {},
   "outputs": [],
   "source": [
    "# Plot the lims\n",
    "print(qrs_lim_0, qrs_lim_1)\n",
    "plt.figure()\n",
    "plt.plot(sig)\n",
    "plt.plot(amplitude_envelope, 'k')\n",
    "plt.plot(qrs_lim_0, sig[qrs_lim_0], 'r*')\n",
    "plt.plot(qrs_lim_1, sig[qrs_lim_1], 'r*')\n",
    "plt.plot(dy)\n",
    "plt.plot(abs_dy)\n",
    "plt.show()"
   ]
  },
  {
   "cell_type": "code",
   "execution_count": null,
   "metadata": {},
   "outputs": [],
   "source": []
  },
  {
   "cell_type": "code",
   "execution_count": null,
   "metadata": {},
   "outputs": [],
   "source": [
    "\n",
    "\n"
   ]
  },
  {
   "cell_type": "code",
   "execution_count": null,
   "metadata": {},
   "outputs": [],
   "source": [
    "fs = 360\n",
    "max_qrs_duration = 0.2\n",
    "max_qrs_len = int(max_qrs_duration * fs)\n",
    "dy = np.diff(sig)\n",
    "abs_dy = np.abs(dy)"
   ]
  },
  {
   "cell_type": "code",
   "execution_count": null,
   "metadata": {},
   "outputs": [],
   "source": [
    "plt.figure()\n",
    "plt.plot(sig)\n",
    "plt.plot(sig_smooth, 'k')\n",
    "plt.plot(center, sig[center], 'r*')\n",
    "\n",
    "plt.plot(dy)\n",
    "plt.plot(abs_dy)\n",
    "plt.show()"
   ]
  },
  {
   "cell_type": "code",
   "execution_count": null,
   "metadata": {},
   "outputs": [],
   "source": [
    "dy = np.diff(sig)"
   ]
  },
  {
   "cell_type": "code",
   "execution_count": null,
   "metadata": {},
   "outputs": [],
   "source": [
    "n_beats_f = [bandpass(sig=b, fs=360, f_low=0.5, f_high=40, order=4) for b in n_beats]"
   ]
  },
  {
   "cell_type": "code",
   "execution_count": null,
   "metadata": {},
   "outputs": [],
   "source": [
    "for i in range(5):\n",
    "    plt.figure()\n",
    "    plt.plot(n_beats_f[i])\n",
    "    plt.show()"
   ]
  },
  {
   "cell_type": "code",
   "execution_count": null,
   "metadata": {},
   "outputs": [],
   "source": [
    "l_beats_f = [bandpass(sig=b, fs=360, f_low=1, f_high=40, order=4) for b in l_beats]"
   ]
  },
  {
   "cell_type": "code",
   "execution_count": null,
   "metadata": {},
   "outputs": [],
   "source": [
    "for i in range(5):\n",
    "    plt.figure()\n",
    "    plt.plot(l_beats_f[i])\n",
    "    plt.show()"
   ]
  },
  {
   "cell_type": "code",
   "execution_count": 20,
   "metadata": {},
   "outputs": [],
   "source": [
    "# Left bundle branch block beats\n",
    "v_beats, v_centers = get_beat_bank(data_dir=data_dir, beat_table=beat_table, wanted_type='V')\n",
    "for i in range(5):\n",
    "#     plt.figure()\n",
    "#     plt.plot(l_beats[i])\n",
    "#     plt.plot(l_centers[i], l_beats[i][l_centers[i]], 'r*')\n",
    "#     plt.show()\n",
    "    plot_beat(v_beats[i], v_centers[i])"
   ]
  },
  {
   "cell_type": "code",
   "execution_count": 7,
   "metadata": {},
   "outputs": [],
   "source": [
    "plt.figure()\n",
    "plt.show()\n"
   ]
  },
  {
   "cell_type": "code",
   "execution_count": null,
   "metadata": {},
   "outputs": [],
   "source": []
  }
 ],
 "metadata": {
  "kernelspec": {
   "display_name": "Python 3",
   "language": "python",
   "name": "python3"
  },
  "language_info": {
   "codemirror_mode": {
    "name": "ipython",
    "version": 3
   },
   "file_extension": ".py",
   "mimetype": "text/x-python",
   "name": "python",
   "nbconvert_exporter": "python",
   "pygments_lexer": "ipython3",
   "version": "3.5.2"
  }
 },
 "nbformat": 4,
 "nbformat_minor": 2
}
