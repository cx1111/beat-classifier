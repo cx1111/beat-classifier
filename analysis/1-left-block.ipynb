{
 "cells": [
  {
   "cell_type": "markdown",
   "metadata": {},
   "source": [
    "# Left Bundle Branch Block"
   ]
  },
  {
   "cell_type": "code",
   "execution_count": 162,
   "metadata": {},
   "outputs": [],
   "source": [
    "import os\n",
    "import pdb\n",
    "\n",
    "import matplotlib.pyplot as plt\n",
    "import numpy as np\n",
    "import pandas as pd\n",
    "from scipy import signal\n",
    "import wfdb\n",
    "\n",
    "from bc.beats import get_beats, get_beat_bank\n",
    "from bc.io import ann_to_df\n",
    "\n",
    "%matplotlib qt\n",
    "\n",
    "base_dir = os.path.abspath('..')\n",
    "data_dir = os.path.join(base_dir, 'data')\n",
    "\n",
    "# Table of record names and the beat types they contain\n",
    "beat_table = pd.read_csv(os.path.join(data_dir, 'beat-types.csv'), dtype={'record':object})\n",
    "beat_table.set_index('record', inplace=True)"
   ]
  },
  {
   "cell_type": "code",
   "execution_count": null,
   "metadata": {},
   "outputs": [],
   "source": [
    "# Normal beats\n",
    "n_beats, n_centers = get_beat_bank(data_dir=data_dir, beat_table=beat_table, wanted_type='N')\n",
    "for i in range(5):\n",
    "    plt.figure()\n",
    "    plt.plot(n_beats[i])\n",
    "    plt.plot(n_centers[i], n_beats[i][n_centers[i]], 'r*')\n",
    "    plt.show()"
   ]
  },
  {
   "cell_type": "code",
   "execution_count": 9,
   "metadata": {},
   "outputs": [],
   "source": [
    "# Left bundle branch block beats\n",
    "l_beats, l_centers = get_beat_bank(data_dir=data_dir, beat_table=beat_table, wanted_type='L')\n",
    "for i in range(5):\n",
    "    plt.figure()\n",
    "    plt.plot(l_beats[i])\n",
    "    plt.plot(l_centers[i], l_beats[i][l_centers[i]], 'r*')\n",
    "    plt.show()"
   ]
  },
  {
   "cell_type": "code",
   "execution_count": 15,
   "metadata": {},
   "outputs": [],
   "source": [
    "for i in range(1):\n",
    "    plt.figure()\n",
    "    plt.plot(n_beats[i])\n",
    "    plt.plot(n_centers[i], n_beats[i][n_centers[i]], 'r*')\n",
    "    plt.show()"
   ]
  },
  {
   "cell_type": "code",
   "execution_count": 177,
   "metadata": {},
   "outputs": [],
   "source": [
    "sig, center = n_beats[0], centers[0]\n",
    "# sig_smooth = signal.filtfilt(b=[1] * 10, a=[1], x=sig) / 40\n",
    "analytic_signal = signal.hilbert(sig)\n",
    "\n",
    "amplitude_envelope = np.abs(analytic_signal)\n",
    "\n",
    "def segment_beat(sig, qrs_ind, fs=360, max_qrs_duration=0.2):\n",
    "    \"\"\"\n",
    "    Segment a single heartbeat, given the signal and its qrs index\n",
    "    \"\"\"\n",
    "    # Moving average samples\n",
    "    \n",
    "    \n",
    "    ma_samps = 10\n",
    "    sig = signal.filtfilt(b=[1] * ma_samps, a=[1], x=sig)\n",
    "    \n",
    "    # Isolate the qrs complex\n",
    "    max_qrs_width = int(max_qrs_duration * fs)\n",
    "    h_max_qrs_width = max_qrs_width // 2\n",
    "    \n",
    "    dy = np.diff(sig)\n",
    "    abs_dy = dy ** 2\n",
    "    \n",
    "    print(max_qrs_width, h_max_qrs_width)\n",
    "    # Crawl left and right until the moving average gradient remains relatively flat\n",
    "    # Left\n",
    "    for i in range(qrs_ind, qrs_ind-h_max_qrs_width, -1):\n",
    "        ma_gradient_l = np.mean(abs_dy[i-ma_samps:i])\n",
    "        ma_gradient_r = np.mean(abs_dy[i+1:i+1+ma_samps])\n",
    "        print(i, ma_gradient_l, ma_gradient_r, ma_gradient_l / ma_gradient_r)\n",
    "        if (ma_gradient_l / ma_gradient_r) < 0.05:\n",
    "            qrs_lim_0 = i\n",
    "            break\n",
    "    # Didn't manage to find limit\n",
    "    else:\n",
    "        print('dah')\n",
    "        qrs_lim_0 = qrs_ind - h_max_qrs_width\n",
    "    \n",
    "    print('\\n\\n Moving right \\n\\n')\n",
    "    # Right\n",
    "    ma_gradient_prev = np.mean(abs_dy[qrs_ind-h_max_qrs_width:qrs_ind+h_max_qrs_width])\n",
    "    for i in range(qrs_ind, qrs_ind+h_max_qrs_width):\n",
    "        ma_gradient_current = np.mean(abs_dy[i:i+ma_samps])\n",
    "        print(ma_gradient_current, ma_gradient_prev, ma_gradient_current / ma_gradient_prev)\n",
    "        if ma_gradient_current < ma_gradient_prev * .15:\n",
    "            qrs_lim_1 = i\n",
    "            break\n",
    "        ma_gradient_prev = ma_gradient_current\n",
    "    # Didn't manage to find limit\n",
    "    else:\n",
    "        print('doh')\n",
    "        qrs_lim_1 = qrs_ind + h_max_qrs_width\n",
    "\n",
    "    # Assume the \n",
    "    \n",
    "    \n",
    "    # Figure out whether the qrs complex points up or down\n",
    "    \n",
    "    return qrs_lim_0, qrs_lim_1"
   ]
  },
  {
   "cell_type": "code",
   "execution_count": 172,
   "metadata": {},
   "outputs": [
    {
     "name": "stdout",
     "output_type": "stream",
     "text": [
      "72 36\n",
      "87 56.61387 55.81943 1.0142323201795505\n",
      "86 58.3735825 54.4560075 1.0719401803373116\n",
      "85 57.62708999999999 51.534807500000014 1.1182168479042047\n",
      "84 53.90896 48.21555000000001 1.1180824443566442\n",
      "83 47.39116 45.42284000000001 1.0433332658195742\n",
      "82 38.844212500000005 43.6967525 0.8889496421959504\n",
      "81 29.4690925 43.25648 0.6812642290819779\n",
      "80 20.374029999999998 44.035890000000016 0.462668745879781\n",
      "79 12.635372499999999 46.12505000000001 0.27393731822512923\n",
      "78 6.923319999999999 49.4120075 0.14011412104638732\n",
      "77 3.340769999999999 53.25471000000001 0.06273191610657533\n",
      "76 1.4778074999999986 56.61387 0.02610327645857806\n",
      "\n",
      "\n",
      " Moving right \n",
      "\n",
      "\n",
      "54.4560075 16.272821875 3.346439106769857\n",
      "55.81943 54.4560075 1.0250371366281306\n",
      "54.5743725 55.81943 0.9776949083858435\n",
      "50.2500725 54.5743725 0.9207631750598689\n",
      "43.19426 50.2500725 0.8595860234828516\n",
      "34.54647 43.19426 0.7997930743575651\n",
      "25.552197500000005 34.54647 0.7396471332671618\n",
      "17.294677500000002 25.552197500000005 0.6768371878778723\n",
      "10.574677499999996 17.294677500000002 0.6114411500301173\n",
      "5.731839999999996 10.574677499999996 0.5420344970331245\n",
      "2.6739099999999985 5.731839999999996 0.4665011584412685\n",
      "1.0217375000000002 2.6739099999999985 0.3821136463082156\n",
      "0.29643499999999995 1.0217375000000002 0.29012833531117327\n",
      "0.058835000000001525 0.29643499999999995 0.19847521379054947\n",
      "0.018024999999999968 0.058835000000001525 0.30636525877453047\n",
      "0.017917500000000072 0.018024999999999968 0.9940360610263581\n",
      "0.016090000000000177 0.017917500000000072 0.8980047439654032\n",
      "0.010890000000000328 0.016090000000000177 0.6768178993163585\n",
      "0.006930000000000226 0.010890000000000328 0.6363636363636379\n",
      "0.005647500000000192 0.006930000000000226 0.8149350649350661\n",
      "0.005550000000000136 0.005647500000000192 0.982735723771571\n",
      "0.005310000000000104 0.005550000000000136 0.9567567567567519\n",
      "0.004350000000000088 0.005310000000000104 0.8192090395480232\n",
      "0.003247500000000154 0.004350000000000088 0.7465517241379512\n",
      "0.001967500000000038 0.003247500000000154 0.6058506543494825\n",
      "0.0011675000000002567 0.001967500000000038 0.5933926302415422\n",
      "0.0016475000000000372 0.0011675000000002567 1.4111349036399785\n",
      "0.002557500000000059 0.0016475000000000372 1.5523520485584226\n",
      "0.0033274999999999798 0.002557500000000059 1.3010752688171665\n",
      "0.00392749999999994 0.0033274999999999798 1.1803155522163677\n",
      "0.004864999999999833 0.00392749999999994 1.2387014640356226\n",
      "0.006417500000000178 0.004864999999999833 1.3191161356629801\n",
      "0.008067500000000049 0.006417500000000178 1.2571094663030502\n",
      "0.009067500000000077 0.008067500000000049 1.1239541369693242\n",
      "0.00903000000000006 0.009067500000000077 0.9958643507030586\n",
      "0.008817499999999912 0.00903000000000006 0.9764673311184776\n",
      "doh\n"
     ]
    }
   ],
   "source": [
    "qrs_lim_0, qrs_lim_1 = segment_beat(sig, center)"
   ]
  },
  {
   "cell_type": "code",
   "execution_count": 178,
   "metadata": {},
   "outputs": [
    {
     "name": "stdout",
     "output_type": "stream",
     "text": [
      "76 123\n"
     ]
    }
   ],
   "source": [
    "# Plot the lims\n",
    "print(qrs_lim_0, qrs_lim_1)\n",
    "plt.figure()\n",
    "plt.plot(sig)\n",
    "plt.plot(amplitude_envelope, 'k')\n",
    "plt.plot(qrs_lim_0, sig[qrs_lim_0], 'r*')\n",
    "plt.plot(qrs_lim_1, sig[qrs_lim_1], 'r*')\n",
    "plt.plot(dy)\n",
    "plt.plot(abs_dy)\n",
    "plt.show()"
   ]
  },
  {
   "cell_type": "code",
   "execution_count": 83,
   "metadata": {},
   "outputs": [
    {
     "data": {
      "text/plain": [
       "99"
      ]
     },
     "execution_count": 83,
     "metadata": {},
     "output_type": "execute_result"
    }
   ],
   "source": []
  },
  {
   "cell_type": "code",
   "execution_count": 79,
   "metadata": {},
   "outputs": [
    {
     "data": {
      "text/plain": [
       "87"
      ]
     },
     "execution_count": 79,
     "metadata": {},
     "output_type": "execute_result"
    }
   ],
   "source": [
    "\n",
    "\n"
   ]
  },
  {
   "cell_type": "code",
   "execution_count": 19,
   "metadata": {},
   "outputs": [],
   "source": [
    "fs = 360\n",
    "max_qrs_duration = 0.2\n",
    "max_qrs_len = int(max_qrs_duration * fs)\n",
    "dy = np.diff(sig)\n",
    "abs_dy = np.abs(dy)"
   ]
  },
  {
   "cell_type": "code",
   "execution_count": 170,
   "metadata": {},
   "outputs": [],
   "source": [
    "plt.figure()\n",
    "plt.plot(sig)\n",
    "plt.plot(sig_smooth, 'k')\n",
    "plt.plot(center, sig[center], 'r*')\n",
    "\n",
    "plt.plot(dy)\n",
    "plt.plot(abs_dy)\n",
    "plt.show()"
   ]
  },
  {
   "cell_type": "code",
   "execution_count": 16,
   "metadata": {},
   "outputs": [],
   "source": [
    "dy = np.diff(sig)"
   ]
  },
  {
   "cell_type": "code",
   "execution_count": null,
   "metadata": {},
   "outputs": [],
   "source": []
  },
  {
   "cell_type": "code",
   "execution_count": 153,
   "metadata": {},
   "outputs": [],
   "source": [
    "x = np.array([1,2,3]) ** 2"
   ]
  },
  {
   "cell_type": "code",
   "execution_count": 154,
   "metadata": {},
   "outputs": [
    {
     "data": {
      "text/plain": [
       "array([1, 4, 9])"
      ]
     },
     "execution_count": 154,
     "metadata": {},
     "output_type": "execute_result"
    }
   ],
   "source": [
    "x"
   ]
  },
  {
   "cell_type": "code",
   "execution_count": null,
   "metadata": {},
   "outputs": [],
   "source": []
  }
 ],
 "metadata": {
  "kernelspec": {
   "display_name": "Python 3",
   "language": "python",
   "name": "python3"
  },
  "language_info": {
   "codemirror_mode": {
    "name": "ipython",
    "version": 3
   },
   "file_extension": ".py",
   "mimetype": "text/x-python",
   "name": "python",
   "nbconvert_exporter": "python",
   "pygments_lexer": "ipython3",
   "version": "3.5.2"
  }
 },
 "nbformat": 4,
 "nbformat_minor": 2
}
