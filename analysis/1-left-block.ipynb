{
 "cells": [
  {
   "cell_type": "markdown",
   "metadata": {},
   "source": [
    "# Left Bundle Branch Block"
   ]
  },
  {
   "cell_type": "code",
   "execution_count": 53,
   "metadata": {},
   "outputs": [],
   "source": [
    "import os\n",
    "import pdb\n",
    "\n",
    "import matplotlib.pyplot as plt\n",
    "import numpy as np\n",
    "import pandas as pd\n",
    "import wfdb\n",
    "\n",
    "from bc.beats import get_beats, get_beat_bank\n",
    "from bc.io import ann_to_df\n",
    "\n",
    "%matplotlib qt\n",
    "\n",
    "base_dir = os.path.abspath('..')\n",
    "data_dir = os.path.join(base_dir, 'data')\n",
    "\n",
    "# Table of record names and the beat types they contain\n",
    "beat_table = pd.read_csv(os.path.join(data_dir, 'beat-types.csv'), dtype={'record':object})\n",
    "beat_table.set_index('record', inplace=True)"
   ]
  },
  {
   "cell_type": "code",
   "execution_count": null,
   "metadata": {},
   "outputs": [],
   "source": [
    "# Normal beats\n",
    "n_beats, n_centers = get_beat_bank(data_dir=data_dir, beat_table=beat_table, wanted_type='N')\n",
    "for i in range(5):\n",
    "    plt.figure()\n",
    "    plt.plot(n_beats[i])\n",
    "    plt.plot(n_centers[i], n_beats[i][n_centers[i]], 'r*')\n",
    "    plt.show()"
   ]
  },
  {
   "cell_type": "code",
   "execution_count": 9,
   "metadata": {},
   "outputs": [],
   "source": [
    "# Left bundle branch block beats\n",
    "l_beats, l_centers = get_beat_bank(data_dir=data_dir, beat_table=beat_table, wanted_type='L')\n",
    "for i in range(5):\n",
    "    plt.figure()\n",
    "    plt.plot(l_beats[i])\n",
    "    plt.plot(l_centers[i], l_beats[i][l_centers[i]], 'r*')\n",
    "    plt.show()"
   ]
  },
  {
   "cell_type": "code",
   "execution_count": 15,
   "metadata": {},
   "outputs": [],
   "source": [
    "for i in range(1):\n",
    "    plt.figure()\n",
    "    plt.plot(n_beats[i])\n",
    "    plt.plot(n_centers[i], n_beats[i][n_centers[i]], 'r*')\n",
    "    plt.show()"
   ]
  },
  {
   "cell_type": "code",
   "execution_count": 96,
   "metadata": {},
   "outputs": [],
   "source": [
    "def segment_beat(sig, qrs_ind, fs=360, max_qrs_duration=0.2):\n",
    "    \"\"\"\n",
    "    Segment a single heartbeat, given the signal and its qrs index\n",
    "    \"\"\"\n",
    "    # Moving average samples\n",
    "    ma_samps = 3\n",
    "    \n",
    "    # Isolate the qrs complex\n",
    "    max_qrs_width = int(max_qrs_duration * fs)\n",
    "    h_max_qrs_width = max_qrs_width // 2\n",
    "    \n",
    "    dy = np.diff(sig)\n",
    "    abs_dy = np.abs(dy)\n",
    "    \n",
    "    print(max_qrs_width, h_max_qrs_width)\n",
    "    # Crawl left and right until the moving average gradient remains relatively flat\n",
    "    # Left\n",
    "    ma_gradient_prev = np.mean(abs_dy[qrs_ind-h_max_qrs_width:qrs_ind+h_max_qrs_width])\n",
    "    for i in range(qrs_ind, qrs_ind-h_max_qrs_width, -1):\n",
    "        ma_gradient_current = np.mean(abs_dy[i-ma_samps:i])\n",
    "        print(i, ma_gradient_current, ma_gradient_prev, ma_gradient_current / ma_gradient_prev)\n",
    "        if ma_gradient_current < ma_gradient_prev * .6:\n",
    "            qrs_lim_0 = i\n",
    "            break\n",
    "        ma_gradient_prev = ma_gradient_current\n",
    "    # Didn't manage to find limit\n",
    "    else:\n",
    "        print('dah')\n",
    "        qrs_lim_0 = qrs_ind - h_max_qrs_width\n",
    "    \n",
    "    print('\\n\\n Moving right \\n\\n')\n",
    "    # Right\n",
    "    ma_gradient_prev = np.mean(abs_dy[qrs_ind-h_max_qrs_width:qrs_ind+h_max_qrs_width])\n",
    "    for i in range(qrs_ind, qrs_ind+h_max_qrs_width):\n",
    "        ma_gradient_current = np.mean(abs_dy[i:i+ma_samps])\n",
    "        print(ma_gradient_current, ma_gradient_prev, ma_gradient_current / ma_gradient_prev)\n",
    "        if ma_gradient_current < ma_gradient_prev * .6:\n",
    "            qrs_lim_1 = i\n",
    "            break\n",
    "        ma_gradient_prev = ma_gradient_current\n",
    "    # Didn't manage to find limit\n",
    "    else:\n",
    "        print('doh')\n",
    "        qrs_lim_1 = qrs_ind + h_max_qrs_width\n",
    "\n",
    "    # Assume the \n",
    "    \n",
    "    \n",
    "    # Figure out whether the qrs complex points up or down\n",
    "    \n",
    "    return qrs_lim_0, qrs_lim_1"
   ]
  },
  {
   "cell_type": "code",
   "execution_count": null,
   "metadata": {},
   "outputs": [],
   "source": []
  },
  {
   "cell_type": "code",
   "execution_count": 97,
   "metadata": {},
   "outputs": [
    {
     "name": "stdout",
     "output_type": "stream",
     "text": [
      "72 36\n",
      "87 0.15 0.049166666666666664 3.0508474576271185\n",
      "86 0.21333333333333335 0.15 1.4222222222222223\n",
      "85 0.245 0.21333333333333335 1.1484375\n",
      "84 0.21666666666666667 0.245 0.8843537414965987\n",
      "83 0.17833333333333334 0.21666666666666667 0.8230769230769232\n",
      "82 0.13333333333333333 0.17833333333333334 0.7476635514018691\n",
      "81 0.11499999999999999 0.13333333333333333 0.8624999999999999\n",
      "80 0.07833333333333335 0.11499999999999999 0.6811594202898553\n",
      "79 0.04833333333333336 0.07833333333333335 0.6170212765957449\n",
      "78 0.030000000000000027 0.04833333333333336 0.620689655172414\n",
      "77 0.03000000000000001 0.030000000000000027 0.9999999999999994\n",
      "76 0.02833333333333334 0.03000000000000001 0.9444444444444443\n",
      "75 0.031666666666666655 0.02833333333333334 1.1176470588235288\n",
      "74 0.02833333333333334 0.031666666666666655 0.8947368421052636\n",
      "73 0.023333333333333334 0.02833333333333334 0.8235294117647057\n",
      "72 0.013333333333333345 0.023333333333333334 0.5714285714285718\n",
      "\n",
      "\n",
      " Moving right \n",
      "\n",
      "\n",
      "0.15 0.049166666666666664 3.0508474576271185\n",
      "0.24666666666666667 0.15 1.6444444444444446\n",
      "0.28833333333333333 0.24666666666666667 1.1689189189189189\n",
      "0.25333333333333335 0.28833333333333333 0.8786127167630059\n",
      "0.18500000000000003 0.25333333333333335 0.7302631578947368\n",
      "0.11333333333333334 0.18500000000000003 0.6126126126126126\n",
      "0.06833333333333332 0.11333333333333334 0.602941176470588\n",
      "0.034999999999999976 0.06833333333333332 0.5121951219512193\n"
     ]
    }
   ],
   "source": [
    "qrs_lim_0, qrs_lim_1 = segment_beat(sig, center)"
   ]
  },
  {
   "cell_type": "code",
   "execution_count": 98,
   "metadata": {},
   "outputs": [
    {
     "name": "stdout",
     "output_type": "stream",
     "text": [
      "72 94\n"
     ]
    }
   ],
   "source": [
    "# Plot the lims\n",
    "print(qrs_lim_0, qrs_lim_1)\n",
    "plt.figure()\n",
    "plt.plot(sig)\n",
    "plt.plot(qrs_lim_0, sig[qrs_lim_0], 'r*')\n",
    "plt.plot(qrs_lim_1, sig[qrs_lim_1], 'r*')\n",
    "plt.plot(dy)\n",
    "plt.plot(abs_dy)\n",
    "plt.show()"
   ]
  },
  {
   "cell_type": "code",
   "execution_count": 83,
   "metadata": {},
   "outputs": [
    {
     "data": {
      "text/plain": [
       "99"
      ]
     },
     "execution_count": 83,
     "metadata": {},
     "output_type": "execute_result"
    }
   ],
   "source": []
  },
  {
   "cell_type": "code",
   "execution_count": 79,
   "metadata": {},
   "outputs": [
    {
     "data": {
      "text/plain": [
       "87"
      ]
     },
     "execution_count": 79,
     "metadata": {},
     "output_type": "execute_result"
    }
   ],
   "source": [
    "\n",
    "\n"
   ]
  },
  {
   "cell_type": "code",
   "execution_count": 19,
   "metadata": {},
   "outputs": [],
   "source": [
    "fs = 360\n",
    "max_qrs_duration = 0.2\n",
    "max_qrs_len = int(max_qrs_duration * fs)\n",
    "dy = np.diff(sig)\n",
    "abs_dy = np.abs(dy)"
   ]
  },
  {
   "cell_type": "code",
   "execution_count": 21,
   "metadata": {},
   "outputs": [],
   "source": [
    "plt.figure()\n",
    "plt.plot(sig)\n",
    "plt.plot(center, sig[center], 'r*')\n",
    "plt.plot(dy)\n",
    "plt.plot(abs_dy)\n",
    "plt.show()"
   ]
  },
  {
   "cell_type": "code",
   "execution_count": 16,
   "metadata": {},
   "outputs": [],
   "source": [
    "dy = np.diff(sig)"
   ]
  },
  {
   "cell_type": "code",
   "execution_count": null,
   "metadata": {},
   "outputs": [],
   "source": []
  },
  {
   "cell_type": "code",
   "execution_count": null,
   "metadata": {},
   "outputs": [],
   "source": []
  }
 ],
 "metadata": {
  "kernelspec": {
   "display_name": "Python 3",
   "language": "python",
   "name": "python3"
  },
  "language_info": {
   "codemirror_mode": {
    "name": "ipython",
    "version": 3
   },
   "file_extension": ".py",
   "mimetype": "text/x-python",
   "name": "python",
   "nbconvert_exporter": "python",
   "pygments_lexer": "ipython3",
   "version": "3.5.2"
  }
 },
 "nbformat": 4,
 "nbformat_minor": 2
}
