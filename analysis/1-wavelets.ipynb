{
 "cells": [
  {
   "cell_type": "markdown",
   "metadata": {},
   "source": [
    "# Notebook 1 - Wavelets and Frequency Information\n",
    "\n",
    "https://pywavelets.readthedocs.io/en/latest/ref/index.html"
   ]
  },
  {
   "cell_type": "markdown",
   "metadata": {},
   "source": [
    "## Section 0 - Import libraries, and load metadata and beats"
   ]
  },
  {
   "cell_type": "code",
   "execution_count": null,
   "metadata": {},
   "outputs": [],
   "source": [
    "from multiprocessing import Pool, cpu_count\n",
    "import os\n",
    "\n",
    "import matplotlib.pyplot as plt\n",
    "import numpy as np\n",
    "import pandas as pd\n",
    "from scipy.signal import cwt, ricker, convolve\n",
    "from sklearn import svm, neighbors\n",
    "from sklearn.ensemble import GradientBoostingClassifier\n",
    "from sklearn.linear_model import LogisticRegression\n",
    "from sklearn.metrics import classification_report\n",
    "from sklearn.model_selection import train_test_split\n",
    "import pywt\n",
    "import wfdb\n",
    "\n",
    "from bc.beats import get_beats, get_beat_bank, BEAT_TYPES\n",
    "from bc.io import ann_to_df\n",
    "from bc.plot import plot_beat, plot_four_beats\n",
    "\n",
    "base_dir = os.path.abspath('..')\n",
    "data_dir = os.path.join(base_dir, 'data')\n",
    "\n",
    "# Table of record names and the beat types they contain\n",
    "beat_table = pd.read_csv(os.path.join(data_dir, 'beat-types.csv'), dtype={'record':object})\n",
    "beat_table.set_index('record', inplace=True)"
   ]
  },
  {
   "cell_type": "code",
   "execution_count": null,
   "metadata": {},
   "outputs": [],
   "source": [
    "# Load Beats, applying the standard ecg bandpass filter\n",
    "n_beats, n_centers = get_beat_bank(data_dir=data_dir, beat_table=beat_table,\n",
    "                                   wanted_type='N', filter=True)\n",
    "l_beats, l_centers = get_beat_bank(data_dir=data_dir, beat_table=beat_table,\n",
    "                                   wanted_type='L' ,filter=True)\n",
    "r_beats, r_centers = get_beat_bank(data_dir=data_dir, beat_table=beat_table,\n",
    "                                   wanted_type='R', filter=True)\n",
    "v_beats, v_centers = get_beat_bank(data_dir=data_dir, beat_table=beat_table,\n",
    "                                   wanted_type='V', filter=True)"
   ]
  },
  {
   "cell_type": "code",
   "execution_count": null,
   "metadata": {},
   "outputs": [],
   "source": [
    "# Visualize one of each beat type\n",
    "plot_four_beats(beats=[n_beats[0], l_beats[0], r_beats[0], v_beats[0]],\n",
    "                centers=[n_centers[0], l_centers[0], r_centers[0], v_centers[0]])\n",
    "\n",
    "# Regular qrs width is about 0.05s = 0.05 * 360 = 18 samples"
   ]
  },
  {
   "cell_type": "markdown",
   "metadata": {},
   "source": [
    "## Section 1 - Explore Wavelets"
   ]
  },
  {
   "cell_type": "code",
   "execution_count": null,
   "metadata": {},
   "outputs": [],
   "source": [
    "# 360 * .2 = 72 samples in 0.2s.\n",
    "# 40hz signal = 360 / 40 = 9 samples.\n",
    "\n",
    "widths = np.arange(6, 73, 6)\n",
    "cwtmatr = cwt(data=n_beats[0][:,0], wavelet=ricker, widths=widths)\n",
    "plt.figure(figsize=(6.4, 4.8))\n",
    "plt.imshow(cwtmatr, extent=[0, n_beats[0].shape[0], 72, 6], cmap='coolwarm', aspect='auto',\n",
    "         vmax=abs(cwtmatr).max(), vmin=-abs(cwtmatr).max())\n",
    "\n",
    "plot_beat(n_beats[0], n_centers[0], style='C0', title='Normal Beat')\n",
    "\n",
    "cwtmatr = cwt(data=-n_beats[0][:,1], wavelet=ricker, widths=widths)\n",
    "plt.figure(figsize=(6.4, 4.8))\n",
    "plt.imshow(cwtmatr, extent=[0, n_beats[0].shape[0], 72, 6], cmap='coolwarm', aspect='auto',\n",
    "         vmax=abs(cwtmatr).max(), vmin=-abs(cwtmatr).max())\n",
    "\n",
    "cwtmatr = cwt(data=v_beats[0][:,0], wavelet=ricker, widths=widths)\n",
    "plt.figure(figsize=(6.4, 4.8))\n",
    "plt.imshow(cwtmatr, extent=[0, v_beats[0].shape[0], 72, 6], cmap='coolwarm', aspect='auto',\n",
    "         vmax=abs(cwtmatr).max(), vmin=-abs(cwtmatr).max())"
   ]
  },
  {
   "cell_type": "code",
   "execution_count": null,
   "metadata": {},
   "outputs": [],
   "source": []
  },
  {
   "cell_type": "markdown",
   "metadata": {},
   "source": [
    "We are using the `pywt` library. Explore the abailable wavelet families and wavelets."
   ]
  },
  {
   "cell_type": "code",
   "execution_count": null,
   "metadata": {},
   "outputs": [],
   "source": [
    "# All wavelet families\n",
    "print(pywt.families(), '\\n')\n",
    "# All wavelets\n",
    "print(pywt.wavelist(), '\\n')\n",
    "# All wavelets of a particular family\n",
    "print(pywt.wavelist(family='bior'), '\\n')\n",
    "# Continuous wavelets\n",
    "print(pywt.wavelist(kind='continuous'), '\\n')"
   ]
  },
  {
   "cell_type": "code",
   "execution_count": null,
   "metadata": {},
   "outputs": [],
   "source": []
  },
  {
   "cell_type": "code",
   "execution_count": null,
   "metadata": {},
   "outputs": [],
   "source": [
    "# Plot the continuous wavelet family functions, excluding complex values ones\n",
    "for family in pywt.wavelist(kind='continuous'):\n",
    "    wavelet = pywt.ContinuousWavelet(family)\n",
    "    if not wavelet.complex_cwt:\n",
    "        plt.plot(wavelet.wavefun()[0])\n",
    "        plt.title(family)\n",
    "        plt.show()"
   ]
  },
  {
   "cell_type": "code",
   "execution_count": null,
   "metadata": {},
   "outputs": [],
   "source": []
  },
  {
   "cell_type": "code",
   "execution_count": null,
   "metadata": {},
   "outputs": [],
   "source": [
    "help(wavelet.wavefun)"
   ]
  },
  {
   "cell_type": "code",
   "execution_count": null,
   "metadata": {},
   "outputs": [],
   "source": [
    "wavelet = pywt.ContinuousWavelet('gaus1')\n",
    "plt.figure()\n",
    "plt.plot(wavelet.wavefun()[0])\n",
    "plt.title('gaus1')\n",
    "plt.show()"
   ]
  },
  {
   "cell_type": "code",
   "execution_count": null,
   "metadata": {},
   "outputs": [],
   "source": []
  },
  {
   "cell_type": "code",
   "execution_count": null,
   "metadata": {},
   "outputs": [],
   "source": [
    "wavelet = pywt.ContinuousWavelet('gaus1')\n",
    "for level in range(1, 9):\n",
    "    plt.plot(wavelet.wavefun(level=level, length=200)[0] + level, '*-')\n",
    "    plt.title(str(level))"
   ]
  },
  {
   "cell_type": "code",
   "execution_count": null,
   "metadata": {},
   "outputs": [],
   "source": [
    "wavelet = pywt.ContinuousWavelet('gaus1')\n",
    "for length in [16, 32, 64, 128]:\n",
    "    plt.plot(wavelet.wavefun(length=length)[0], '*-')\n",
    "    plt.title(str(length))\n",
    "plt.show()"
   ]
  },
  {
   "cell_type": "code",
   "execution_count": null,
   "metadata": {},
   "outputs": [],
   "source": [
    "coef, freqs = pywt.cwt(n_beats[0][:, 0], np.arange(1,30), 'gaus1')\n",
    "plt.figure(figsize=(12, 9))\n",
    "plt.imshow(coef, cmap='coolwarm')\n",
    "plt.show()"
   ]
  },
  {
   "cell_type": "code",
   "execution_count": null,
   "metadata": {},
   "outputs": [],
   "source": [
    "coef, freqs = pywt.cwt(n_beats[0][:, 0], np.arange(1,30), 'gaus2', sampling_period=1/360, )\n",
    "plt.figure(figsize=(12, 9))\n",
    "plt.imshow(coef, cmap='coolwarm')\n",
    "plt.show()"
   ]
  },
  {
   "cell_type": "code",
   "execution_count": null,
   "metadata": {},
   "outputs": [],
   "source": [
    "coef.shape"
   ]
  },
  {
   "cell_type": "code",
   "execution_count": null,
   "metadata": {},
   "outputs": [],
   "source": [
    "freqs"
   ]
  },
  {
   "cell_type": "code",
   "execution_count": null,
   "metadata": {},
   "outputs": [],
   "source": []
  },
  {
   "cell_type": "code",
   "execution_count": null,
   "metadata": {},
   "outputs": [],
   "source": [
    "\n",
    "plt.figure()\n",
    "for scalenum in range(coef.shape[0]):\n",
    "    plt.plot(coef[scalenum, :])\n",
    "    \n",
    "plt.legend([str(s) for s in range(1, 30)])\n",
    "plt.show()"
   ]
  },
  {
   "cell_type": "code",
   "execution_count": null,
   "metadata": {},
   "outputs": [],
   "source": []
  },
  {
   "cell_type": "code",
   "execution_count": null,
   "metadata": {},
   "outputs": [],
   "source": [
    "# RBBB gaus1\n",
    "coef, freqs = pywt.cwt(r_beats[0][:, 0], np.arange(1,30), 'gaus1', sampling_period=1/360, )\n",
    "plt.figure(figsize=(12, 9))\n",
    "plt.imshow(coef, cmap='coolwarm')\n",
    "plt.show()"
   ]
  },
  {
   "cell_type": "code",
   "execution_count": null,
   "metadata": {},
   "outputs": [],
   "source": [
    "# RBBB gaus2\n",
    "coef, freqs = pywt.cwt(r_beats[0][:, 0], np.arange(1,30), 'gaus2', sampling_period=1/360, )\n",
    "plt.figure(figsize=(12, 9))\n",
    "plt.imshow(coef, cmap='coolwarm')\n",
    "plt.show()"
   ]
  },
  {
   "cell_type": "markdown",
   "metadata": {},
   "source": [
    "## Section 2 - Building Features"
   ]
  },
  {
   "cell_type": "code",
   "execution_count": null,
   "metadata": {},
   "outputs": [],
   "source": [
    "# For each beat, we want a set of features to feed into a classifier\n",
    "# Each beat will have two wavelet families tested on its two channels.\n",
    "# We will get the maximum convolution value and the level at which it occurs.\n",
    "feature_names = ['gaus1_max_II', 'gaus1_max_scale_II', 'gaus2_max_II', 'gaus2_max_scale_II',\n",
    "            'gaus1_max_V', 'gaus1_max_scale_V', 'gaus2_max_V', 'gaus2_max_scale_V']\n",
    "\n"
   ]
  },
  {
   "cell_type": "code",
   "execution_count": null,
   "metadata": {},
   "outputs": [],
   "source": [
    "n_features = pd.DataFrame(columns=features)"
   ]
  },
  {
   "cell_type": "code",
   "execution_count": null,
   "metadata": {},
   "outputs": [],
   "source": [
    "def calc_wavelet_features(beat):\n",
    "    \"\"\"\n",
    "    Calculate the 8 features for the 2 channel beat\n",
    "    \"\"\"\n",
    "    scales = np.arange(1, 30)\n",
    "    sig_name = ['MLII', 'V1']\n",
    "    features = []\n",
    "    \n",
    "    for ch in range(2):\n",
    "        # Reverse channel V1 for qrs complexes to match gaus1 wavelet deflection\n",
    "        # Q: Why does this time domain reversal not affect our feature?\n",
    "        if ch == 1:\n",
    "            sig = -beat[:, ch]\n",
    "            #sig = beat[::-1, ch]\n",
    "        else:\n",
    "            sig = beat[:, ch]\n",
    "            \n",
    "        for wavefun in ['gaus1', 'gaus2']:\n",
    "            # Calculate continuous wavelet transform\n",
    "            coef, freqs = pywt.cwt(sig, np.arange(1,30), wavefun, sampling_period=1/360)\n",
    "            # The maximum value of the convolution array\n",
    "            max_coef = coef.max()\n",
    "            # The scale at which the maximum convolution value occurs\n",
    "            max_scale = scales[np.where(coef==max_coef)[0][0]]\n",
    "            # Save the features\n",
    "            features += [max_coef, max_scale]\n",
    "    return features\n",
    "    "
   ]
  },
  {
   "cell_type": "code",
   "execution_count": null,
   "metadata": {},
   "outputs": [],
   "source": []
  },
  {
   "cell_type": "code",
   "execution_count": null,
   "metadata": {},
   "outputs": [],
   "source": [
    "# Try on some beats\n",
    "# Normal\n",
    "features = calc_wavelet_features(n_beats[0])\n",
    "features"
   ]
  },
  {
   "cell_type": "code",
   "execution_count": null,
   "metadata": {},
   "outputs": [],
   "source": [
    "# Try on some beats\n",
    "# LBBB\n",
    "features = calc_wavelet_features(l_beats[0])\n",
    "features"
   ]
  },
  {
   "cell_type": "code",
   "execution_count": null,
   "metadata": {},
   "outputs": [],
   "source": [
    "# Try on some beats\n",
    "# LBBB\n",
    "features = calc_wavelet_features(l_beats[0])\n",
    "features"
   ]
  },
  {
   "cell_type": "code",
   "execution_count": null,
   "metadata": {},
   "outputs": [],
   "source": [
    "# Try on some beats\n",
    "# Vent\n",
    "features = calc_wavelet_features(v_beats[0])\n",
    "features"
   ]
  },
  {
   "cell_type": "markdown",
   "metadata": {},
   "source": [
    "## Section 3 - Calculate wavelet features and classify"
   ]
  },
  {
   "cell_type": "code",
   "execution_count": null,
   "metadata": {},
   "outputs": [],
   "source": [
    "# Get all the beats and labels together\n",
    "all_beats = n_beats + l_beats + r_beats + v_beats\n",
    "labels = [0]*len(n_beats) + [1]*len(l_beats) + [2]*len(r_beats) + [3]*len(v_beats)"
   ]
  },
  {
   "cell_type": "code",
   "execution_count": null,
   "metadata": {},
   "outputs": [],
   "source": [
    "# Calculate features for all records using multiple cpus\n",
    "pool = Pool(processes=cpu_count() - 1)\n",
    "features = pool.map(calc_wavelet_features, all_beats)\n",
    "\n",
    "# Combine features into a data frame\n",
    "features = pd.DataFrame(features, columns=feature_names)\n",
    "features['type'] = labels"
   ]
  },
  {
   "cell_type": "code",
   "execution_count": null,
   "metadata": {},
   "outputs": [],
   "source": [
    "# Question: How many rows and columns should the feature matrix have?\n",
    "features.head()"
   ]
  },
  {
   "cell_type": "code",
   "execution_count": null,
   "metadata": {},
   "outputs": [],
   "source": [
    "# Visualize some results so that we can see if there is any inter-group difference"
   ]
  },
  {
   "cell_type": "code",
   "execution_count": null,
   "metadata": {},
   "outputs": [],
   "source": [
    "# Recall the features\n",
    "# feature_names = ['gaus1_max_II', 'gaus1_max_scale_II', 'gaus2_max_II', 'gaus2_max_scale_II',\n",
    "#            'gaus1_max_V', 'gaus1_max_scale_V', 'gaus2_max_V', 'gaus2_max_scale_V']\n",
    "\n",
    "# Show some features\n",
    "for f in feature_names:\n",
    "    plt.figure()\n",
    "    for groupnum in range(4):\n",
    "        plt.hist(features.loc[np.equal(labels, groupnum), f])\n",
    "    plt.title(f)\n",
    "    plt.legend(beat_types)\n",
    "    plt.show()\n",
    "    \n",
    "# Question: Which features do you think will be more useful?\n",
    "# Gaus1 is the sinusoud, gaus2 is the hat.\n"
   ]
  },
  {
   "cell_type": "code",
   "execution_count": null,
   "metadata": {},
   "outputs": [],
   "source": []
  },
  {
   "cell_type": "code",
   "execution_count": null,
   "metadata": {},
   "outputs": [],
   "source": []
  },
  {
   "cell_type": "code",
   "execution_count": null,
   "metadata": {},
   "outputs": [],
   "source": [
    "# Split data into training and testing sets\n",
    "x_train, x_test, y_train, y_test = train_test_split(features, labels,\n",
    "                                                    train_size=0.75, test_size=0.25,\n",
    "                                                    random_state=0)\n",
    "print('Number of training records: %d' % len(x_train))\n",
    "print('Number of testing records: %d' % len(x_test))"
   ]
  },
  {
   "cell_type": "code",
   "execution_count": null,
   "metadata": {},
   "outputs": [],
   "source": [
    "# LR\n",
    "clf_lr = LogisticRegression()\n",
    "clf_lr.fit(x_train, y_train)\n",
    "y_predict_lr = clf_lr.predict(x_test)\n",
    "\n",
    "# KNN\n",
    "clf_knn = neighbors.KNeighborsClassifier()\n",
    "clf_knn.fit(x_train, y_train)\n",
    "y_predict_knn = clf_knn.predict(x_test)\n",
    "\n",
    "# SVM\n",
    "clf_svm = svm.SVC()\n",
    "clf_svm.fit(x_train, y_train)\n",
    "y_predict_svm = clf_svm.predict(x_test)\n",
    "\n",
    "# And GB\n",
    "clf_gb = GradientBoostingClassifier()\n",
    "clf_gb.fit(x_train, y_train)\n",
    "y_predict_gb = clf_gb.predict(x_test)"
   ]
  },
  {
   "cell_type": "code",
   "execution_count": null,
   "metadata": {},
   "outputs": [],
   "source": []
  },
  {
   "cell_type": "code",
   "execution_count": null,
   "metadata": {},
   "outputs": [],
   "source": [
    "print('Logistic Regression')\n",
    "print(classification_report(y_test, y_predict_lr, target_names=BEAT_TYPES))\n",
    "\n",
    "print('K Nearest Neigbors')\n",
    "print(classification_report(y_test, y_predict_knn, target_names=BEAT_TYPES))\n",
    "\n",
    "print('Support Vector Machines')\n",
    "print(classification_report(y_test, y_predict_svm, target_names=BEAT_TYPES))\n",
    "\n",
    "print('Gradient Boosting')\n",
    "print(classification_report(y_test, y_predict_gb, target_names=BEAT_TYPES))\n"
   ]
  },
  {
   "cell_type": "code",
   "execution_count": null,
   "metadata": {},
   "outputs": [],
   "source": [
    "w = pywt.Wavelet('gaus1')\n",
    "\n"
   ]
  }
 ],
 "metadata": {
  "kernelspec": {
   "display_name": "Python 3",
   "language": "python",
   "name": "python3"
  },
  "language_info": {
   "codemirror_mode": {
    "name": "ipython",
    "version": 3
   },
   "file_extension": ".py",
   "mimetype": "text/x-python",
   "name": "python",
   "nbconvert_exporter": "python",
   "pygments_lexer": "ipython3",
   "version": "3.5.2"
  }
 },
 "nbformat": 4,
 "nbformat_minor": 2
}
