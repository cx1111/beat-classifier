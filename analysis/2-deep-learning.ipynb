{
 "cells": [
  {
   "cell_type": "code",
   "execution_count": 1,
   "metadata": {},
   "outputs": [],
   "source": [
    "import os\n",
    "\n",
    "import pandas as pd\n",
    "import numpy as np\n",
    "import torch.nn as nn\n",
    "import torch.nn.functional as F\n",
    "\n",
    "from bc.beats import get_beat_bank\n",
    "\n",
    "base_dir = os.path.abspath('..')\n",
    "data_dir = os.path.join(base_dir, 'data')\n",
    "\n",
    "# Table of record names and the beat types they contain\n",
    "beat_table = pd.read_csv(os.path.join(data_dir, 'beat-types.csv'), dtype={'record':object})\n",
    "beat_table.set_index('record', inplace=True)"
   ]
  },
  {
   "cell_type": "code",
   "execution_count": 2,
   "metadata": {},
   "outputs": [],
   "source": [
    "# Load Beats with fixed width\n",
    "n_beats, n_centers = get_beat_bank(data_dir=data_dir, beat_table=beat_table,\n",
    "                                   wanted_type='N', filter=True, fixed_width=240)\n",
    "l_beats, l_centers = get_beat_bank(data_dir=data_dir, beat_table=beat_table,\n",
    "                                   wanted_type='L' ,filter=True, fixed_width=240)\n",
    "r_beats, r_centers = get_beat_bank(data_dir=data_dir, beat_table=beat_table,\n",
    "                                   wanted_type='R', filter=True, fixed_width=240)\n",
    "v_beats, v_centers = get_beat_bank(data_dir=data_dir, beat_table=beat_table,\n",
    "                                   wanted_type='V', filter=True, fixed_width=240)"
   ]
  },
  {
   "cell_type": "code",
   "execution_count": 6,
   "metadata": {},
   "outputs": [
    {
     "data": {
      "text/plain": [
       "[240,\n",
       " 240,\n",
       " 240,\n",
       " 240,\n",
       " 240,\n",
       " 240,\n",
       " 240,\n",
       " 240,\n",
       " 240,\n",
       " 240,\n",
       " 240,\n",
       " 240,\n",
       " 240,\n",
       " 240,\n",
       " 240,\n",
       " 240,\n",
       " 240,\n",
       " 240,\n",
       " 240,\n",
       " 240,\n",
       " 240,\n",
       " 240,\n",
       " 240,\n",
       " 240,\n",
       " 240,\n",
       " 240,\n",
       " 240,\n",
       " 240,\n",
       " 240,\n",
       " 240,\n",
       " 240,\n",
       " 240,\n",
       " 240,\n",
       " 240,\n",
       " 240,\n",
       " 240,\n",
       " 240,\n",
       " 240,\n",
       " 240,\n",
       " 240]"
      ]
     },
     "execution_count": 6,
     "metadata": {},
     "output_type": "execute_result"
    }
   ],
   "source": [
    "[len(b) for b in v_beats[:40]]"
   ]
  },
  {
   "cell_type": "code",
   "execution_count": null,
   "metadata": {},
   "outputs": [],
   "source": []
  },
  {
   "cell_type": "code",
   "execution_count": null,
   "metadata": {},
   "outputs": [],
   "source": []
  },
  {
   "cell_type": "code",
   "execution_count": null,
   "metadata": {},
   "outputs": [],
   "source": [
    "class BeatNet(nn.Module):\n",
    "    def __init__(self):\n",
    "        super(BeatNet, self).__init__()\n",
    "        # 1 input channel, \n",
    "        self.conv1 = nn.Conv2d(in_channels=1, out_channels=2, kernel_size=(1,3))\n",
    "        self.conv2 = nn.Conv2d(in_channels=2, out_channels=4, kernel_size=(1,3))\n",
    "        # maxpool function\n",
    "        self.pool = nn.MaxPool1d(kernel_size=2, stride=2, padding=0)\n",
    "        # First fully connected layer\n",
    "        self.fc1 = nn.Linear(8 * 3, 12)\n",
    "        # Final fully connected layer \n",
    "        self.fc2 = nn.Linear(12, 4)\n",
    "\n",
    "    def forward(self, x):\n",
    "        x = self.pool(F.relu(self.conv1(x)))\n",
    "        x = self.pool(F.relu(self.conv2(x)))\n",
    "        x = x.view(-1, 8 * 3)\n",
    "        x = F.relu(self.fc1(x))\n",
    "        x = self.fc2(x)\n",
    "        return x"
   ]
  },
  {
   "cell_type": "code",
   "execution_count": null,
   "metadata": {},
   "outputs": [],
   "source": [
    "beatnet = BeatNet()"
   ]
  },
  {
   "cell_type": "code",
   "execution_count": null,
   "metadata": {},
   "outputs": [],
   "source": []
  },
  {
   "cell_type": "code",
   "execution_count": null,
   "metadata": {},
   "outputs": [],
   "source": []
  },
  {
   "cell_type": "code",
   "execution_count": null,
   "metadata": {},
   "outputs": [],
   "source": [
    "help(nn.Conv2d)"
   ]
  },
  {
   "cell_type": "code",
   "execution_count": null,
   "metadata": {},
   "outputs": [],
   "source": []
  }
 ],
 "metadata": {
  "kernelspec": {
   "display_name": "Python 3",
   "language": "python",
   "name": "python3"
  },
  "language_info": {
   "codemirror_mode": {
    "name": "ipython",
    "version": 3
   },
   "file_extension": ".py",
   "mimetype": "text/x-python",
   "name": "python",
   "nbconvert_exporter": "python",
   "pygments_lexer": "ipython3",
   "version": "3.5.2"
  }
 },
 "nbformat": 4,
 "nbformat_minor": 2
}
