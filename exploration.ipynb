{
 "cells": [
  {
   "cell_type": "code",
   "execution_count": 29,
   "metadata": {},
   "outputs": [],
   "source": [
    "import numpy as np\n",
    "import pandas as pd\n",
    "import wfdb\n",
    "from wfdb import processing as wp"
   ]
  },
  {
   "cell_type": "code",
   "execution_count": 2,
   "metadata": {},
   "outputs": [],
   "source": [
    "# Records to use\n",
    "\n",
    "# Left bundle branch block. No normal beats!\n",
    "l_records = ['109', '111', '207', '214']\n",
    "# Right bundle branch block. 118, 124, 232 have no normal/L beats. 207, 212, 231 have N beats.\n",
    "r_records = ['118', '124', '207', '212', '231', '232' ]\n",
    "# Premature ventricular contraction. There are more records with fewer v.\n",
    "v_records = ['106', '116', '119', '200', '201', '203', '207', '208' ,'210',\n",
    "             '213', '214', '215', '221', '223', '228', '233']\n"
   ]
  },
  {
   "cell_type": "code",
   "execution_count": 38,
   "metadata": {},
   "outputs": [
    {
     "ename": "SyntaxError",
     "evalue": "invalid syntax (<ipython-input-38-3f7b0484d020>, line 18)",
     "output_type": "error",
     "traceback": [
      "\u001b[0;36m  File \u001b[0;32m\"<ipython-input-38-3f7b0484d020>\"\u001b[0;36m, line \u001b[0;32m18\u001b[0m\n\u001b[0;31m    def get_hr()\u001b[0m\n\u001b[0m                ^\u001b[0m\n\u001b[0;31mSyntaxError\u001b[0m\u001b[0;31m:\u001b[0m invalid syntax\n"
     ]
    }
   ],
   "source": [
    "def get_df(ann, keep_sym=None, rm_sym):\n",
    "    \"\"\"\n",
    "    Get pandas df from wfdb annotation.\n",
    "    \n",
    "    Filter syms if want by specifying what to keep or remove.\n",
    "    Only specify one of keep_sym and rm_sym.\n",
    "    \"\"\"\n",
    "    df = pd.DataFrame({'sample':ann.sample, 'symbol':ann.symbol})\n",
    "    \n",
    "    if keep_sym and rm_sym:\n",
    "        raise Exception('Specify either symbols to keep or remove')\n",
    "    if keep_sym:\n",
    "        df = df.loc[df['symbol'].isin(keep_sym)]\n",
    "    elif rm_sym:\n",
    "        df = df.loc[-df['symbol'].isin(rm_sym)]\n",
    "    return df\n"
   ]
  },
  {
   "cell_type": "code",
   "execution_count": 40,
   "metadata": {},
   "outputs": [],
   "source": [
    "# Right branch block\n",
    "r = '212'\n",
    "\n",
    "record = wfdb.rdrecord(r, pb_dir='mitdb')\n",
    "ann = wfdb.rdann(r, 'atr', pb_dir='mitdb', summarize_labels=True)\n",
    "\n",
    "\n"
   ]
  },
  {
   "cell_type": "code",
   "execution_count": 44,
   "metadata": {},
   "outputs": [
    {
     "data": {
      "text/html": [
       "<div>\n",
       "<style scoped>\n",
       "    .dataframe tbody tr th:only-of-type {\n",
       "        vertical-align: middle;\n",
       "    }\n",
       "\n",
       "    .dataframe tbody tr th {\n",
       "        vertical-align: top;\n",
       "    }\n",
       "\n",
       "    .dataframe thead th {\n",
       "        text-align: right;\n",
       "    }\n",
       "</style>\n",
       "<table border=\"1\" class=\"dataframe\">\n",
       "  <thead>\n",
       "    <tr style=\"text-align: right;\">\n",
       "      <th></th>\n",
       "      <th>label_store</th>\n",
       "      <th>symbol</th>\n",
       "      <th>description</th>\n",
       "    </tr>\n",
       "  </thead>\n",
       "  <tbody>\n",
       "    <tr>\n",
       "      <th>16</th>\n",
       "      <td>16</td>\n",
       "      <td>|</td>\n",
       "      <td>Isolated QRS-like artifact</td>\n",
       "    </tr>\n",
       "    <tr>\n",
       "      <th>1</th>\n",
       "      <td>1</td>\n",
       "      <td>N</td>\n",
       "      <td>Normal beat</td>\n",
       "    </tr>\n",
       "    <tr>\n",
       "      <th>3</th>\n",
       "      <td>3</td>\n",
       "      <td>R</td>\n",
       "      <td>Right bundle branch block beat</td>\n",
       "    </tr>\n",
       "    <tr>\n",
       "      <th>28</th>\n",
       "      <td>28</td>\n",
       "      <td>+</td>\n",
       "      <td>Rhythm change</td>\n",
       "    </tr>\n",
       "    <tr>\n",
       "      <th>14</th>\n",
       "      <td>14</td>\n",
       "      <td>~</td>\n",
       "      <td>Signal quality change</td>\n",
       "    </tr>\n",
       "  </tbody>\n",
       "</table>\n",
       "</div>"
      ],
      "text/plain": [
       "    label_store symbol                     description\n",
       "16           16      |      Isolated QRS-like artifact\n",
       "1             1      N                     Normal beat\n",
       "3             3      R  Right bundle branch block beat\n",
       "28           28      +                   Rhythm change\n",
       "14           14      ~           Signal quality change"
      ]
     },
     "execution_count": 44,
     "metadata": {},
     "output_type": "execute_result"
    }
   ],
   "source": [
    "ann.contained_labels"
   ]
  },
  {
   "cell_type": "code",
   "execution_count": 27,
   "metadata": {},
   "outputs": [],
   "source": [
    "df = get_df(ann, keep_sym=['N', 'R'])\n",
    "# 923 + 1825"
   ]
  },
  {
   "cell_type": "code",
   "execution_count": 32,
   "metadata": {},
   "outputs": [
    {
     "name": "stdout",
     "output_type": "stream",
     "text": [
      "Help on function calc_mean_hr in module wfdb.processing.hr:\n",
      "\n",
      "calc_mean_hr(rr, fs=None, min_rr=None, max_rr=None, rr_units='samples')\n",
      "    Compute mean heart rate in beats per minute, from a set of rr\n",
      "    intervals. Returns 0 if rr is empty.\n",
      "    \n",
      "    Parameters\n",
      "    ----------\n",
      "    rr : numpy array\n",
      "        Array of rr intervals.\n",
      "    fs : int, or float\n",
      "        The corresponding signal's sampling frequency. Required if\n",
      "        'input_time_units' == 'samples'.\n",
      "    min_rr : float, optional\n",
      "        The minimum allowed rr interval. Values below this are excluded\n",
      "        when calculating the heart rate. Units are in `rr_units`.\n",
      "    max_rr : float, optional\n",
      "        The maximum allowed rr interval. Values above this are excluded\n",
      "        when calculating the heart rate. Units are in `rr_units`.\n",
      "    rr_units : str, optional\n",
      "        The time units of the input rr intervals. Must be one of:\n",
      "        'samples', 'seconds'.\n",
      "    \n",
      "    Returns\n",
      "    -------\n",
      "    mean_hr : float\n",
      "        The mean heart rate in beats per minute\n",
      "\n"
     ]
    }
   ],
   "source": [
    "help(wp.calc_mean_hr)"
   ]
  },
  {
   "cell_type": "code",
   "execution_count": 37,
   "metadata": {},
   "outputs": [
    {
     "data": {
      "text/plain": [
       "1       False\n",
       "2       False\n",
       "3       False\n",
       "4       False\n",
       "5       False\n",
       "6       False\n",
       "7       False\n",
       "8       False\n",
       "9       False\n",
       "10      False\n",
       "11      False\n",
       "12      False\n",
       "13      False\n",
       "14      False\n",
       "15      False\n",
       "16      False\n",
       "17      False\n",
       "18      False\n",
       "19      False\n",
       "20      False\n",
       "21      False\n",
       "22      False\n",
       "23      False\n",
       "24      False\n",
       "25      False\n",
       "26      False\n",
       "27      False\n",
       "28      False\n",
       "29      False\n",
       "30      False\n",
       "        ...  \n",
       "2733     True\n",
       "2734     True\n",
       "2735     True\n",
       "2736     True\n",
       "2737     True\n",
       "2738     True\n",
       "2739     True\n",
       "2740     True\n",
       "2741     True\n",
       "2742     True\n",
       "2743     True\n",
       "2744     True\n",
       "2745     True\n",
       "2746     True\n",
       "2747     True\n",
       "2748     True\n",
       "2749     True\n",
       "2750     True\n",
       "2751     True\n",
       "2752     True\n",
       "2753     True\n",
       "2754     True\n",
       "2755     True\n",
       "2756     True\n",
       "2757     True\n",
       "2758     True\n",
       "2759     True\n",
       "2760     True\n",
       "2761     True\n",
       "2762     True\n",
       "Name: symbol, Length: 2748, dtype: bool"
      ]
     },
     "execution_count": 37,
     "metadata": {},
     "output_type": "execute_result"
    }
   ],
   "source": []
  },
  {
   "cell_type": "code",
   "execution_count": 30,
   "metadata": {},
   "outputs": [
    {
     "data": {
      "text/plain": [
       "['Comparitor',\n",
       " 'XQRS',\n",
       " '__builtins__',\n",
       " '__cached__',\n",
       " '__doc__',\n",
       " '__file__',\n",
       " '__loader__',\n",
       " '__name__',\n",
       " '__package__',\n",
       " '__path__',\n",
       " '__spec__',\n",
       " 'basic',\n",
       " 'benchmark_mitdb',\n",
       " 'calc_mean_hr',\n",
       " 'calc_rr',\n",
       " 'compare_annotations',\n",
       " 'compute_hr',\n",
       " 'correct_peaks',\n",
       " 'evaluate',\n",
       " 'find_local_peaks',\n",
       " 'find_peaks',\n",
       " 'get_filter_gain',\n",
       " 'gqrs_detect',\n",
       " 'hr',\n",
       " 'normalize_bound',\n",
       " 'peaks',\n",
       " 'qrs',\n",
       " 'resample_ann',\n",
       " 'resample_multichan',\n",
       " 'resample_sig',\n",
       " 'resample_singlechan',\n",
       " 'xqrs_detect']"
      ]
     },
     "execution_count": 30,
     "metadata": {},
     "output_type": "execute_result"
    }
   ],
   "source": [
    "dir(wp)"
   ]
  },
  {
   "cell_type": "code",
   "execution_count": 8,
   "metadata": {},
   "outputs": [
    {
     "data": {
      "image/png": "[encoded data removed]",
      "text/plain": [
       "<Figure size 432x288 with 2 Axes>"
      ]
     },
     "metadata": {},
     "output_type": "display_data"
    }
   ],
   "source": [
    "wfdb.plot_wfdb(record=record, annotation=ann)\n"
   ]
  },
  {
   "cell_type": "code",
   "execution_count": 5,
   "metadata": {},
   "outputs": [
    {
     "name": "stdout",
     "output_type": "stream",
     "text": [
      "Help on function plot_items in module wfdb.plot.plot:\n",
      "\n",
      "plot_items(signal=None, ann_samp=None, ann_sym=None, fs=None, time_units='samples', sig_name=None, sig_units=None, ylabel=None, title=None, sig_style=[''], ann_style=['r*'], ecg_grids=[], figsize=None, return_fig=False)\n",
      "    Subplot individual channels of signals and/or annotations.\n",
      "    \n",
      "    Parameters\n",
      "    ----------\n",
      "    signal : 1d or 2d numpy array, optional\n",
      "        The uniformly sampled signal to be plotted. If signal.ndim is 1, it is\n",
      "        assumed to be a one channel signal. If it is 2, axes 0 and 1, must\n",
      "        represent time and channel number respectively.\n",
      "    ann_samp: list, optional\n",
      "        A list of annotation locations to plot, with each list item\n",
      "        corresponding to a different channel. List items may be:\n",
      "    \n",
      "        - 1d numpy array, with values representing sample indices. Empty\n",
      "          arrays are skipped.\n",
      "        - list, with values representing sample indices. Empty lists\n",
      "          are skipped.\n",
      "        - None. For channels in which nothing is to be plotted.\n",
      "    \n",
      "        If `signal` is defined, the annotation locations will be overlaid on\n",
      "        the signals, with the list index corresponding to the signal channel.\n",
      "        The length of `annotation` does not have to match the number of\n",
      "        channels of `signal`.\n",
      "    ann_sym: list, optional\n",
      "        A list of annotation symbols to plot, with each list item\n",
      "        corresponding to a different channel. List items should be lists of\n",
      "        strings. The symbols are plotted over the corresponding `ann_samp`\n",
      "        index locations.\n",
      "    fs : int or float, optional\n",
      "        The sampling frequency of the signals and/or annotations. Used to\n",
      "        calculate time intervals if `time_units` is not 'samples'. Also\n",
      "        required for plotting ecg grids.\n",
      "    time_units : str, optional\n",
      "        The x axis unit. Allowed options are: 'samples', 'seconds', 'minutes',\n",
      "        and 'hours'.\n",
      "    sig_name : list, optional\n",
      "        A list of strings specifying the signal names. Used with `sig_units`\n",
      "        to form y labels, if `ylabel` is not set.\n",
      "    sig_units : list, optional\n",
      "        A list of strings specifying the units of each signal channel. Used\n",
      "        with `sig_name` to form y labels, if `ylabel` is not set. This\n",
      "        parameter is required for plotting ecg grids.\n",
      "    ylabel : list, optional\n",
      "        A list of strings specifying the final y labels. If this option is\n",
      "        present, `sig_name` and `sig_units` will not be used for labels.\n",
      "    title : str, optional\n",
      "        The title of the graph.\n",
      "    sig_style : list, optional\n",
      "        A list of strings, specifying the style of the matplotlib plot\n",
      "        for each signal channel. The list length should match the number\n",
      "        of signal channels. If the list has a length of 1, the style\n",
      "        will be used for all channels.\n",
      "    ann_style : list, optional\n",
      "        A list of strings, specifying the style of the matplotlib plot for each\n",
      "        annotation channel. If the list has a length of 1, the style will be\n",
      "        used for all channels.\n",
      "    ecg_grids : list, optional\n",
      "        A list of integers specifying channels in which to plot ecg grids. May\n",
      "        also be set to 'all' for all channels. Major grids at 0.5mV, and minor\n",
      "        grids at 0.125mV. All channels to be plotted with grids must have\n",
      "        `sig_units` equal to 'uV', 'mV', or 'V'.\n",
      "    figsize : tuple, optional\n",
      "        Tuple pair specifying the width, and height of the figure. It is the\n",
      "        'figsize' argument passed into matplotlib.pyplot's `figure` function.\n",
      "    return_fig : bool, optional\n",
      "        Whether the figure is to be returned as an output argument.\n",
      "    \n",
      "    Returns\n",
      "    -------\n",
      "    figure : matplotlib figure, optional\n",
      "        The matplotlib figure generated. Only returned if the 'return_fig'\n",
      "        parameter is set to True.\n",
      "    \n",
      "    Examples\n",
      "    --------\n",
      "    >>> record = wfdb.rdrecord('sample-data/100', sampto=3000)\n",
      "    >>> ann = wfdb.rdann('sample-data/100', 'atr', sampto=3000)\n",
      "    \n",
      "    >>> wfdb.plot_items(signal=record.p_signal,\n",
      "                        annotation=[ann.sample, ann.sample],\n",
      "                        title='MIT-BIH Record 100', time_units='seconds',\n",
      "                        figsize=(10,4), ecg_grids='all')\n",
      "\n"
     ]
    }
   ],
   "source": [
    "wfdb."
   ]
  },
  {
   "cell_type": "code",
   "execution_count": null,
   "metadata": {},
   "outputs": [],
   "source": []
  }
 ],
 "metadata": {
  "kernelspec": {
   "display_name": "Python 3",
   "language": "python",
   "name": "python3"
  },
  "language_info": {
   "codemirror_mode": {
    "name": "ipython",
    "version": 3
   },
   "file_extension": ".py",
   "mimetype": "text/x-python",
   "name": "python",
   "nbconvert_exporter": "python",
   "pygments_lexer": "ipython3",
   "version": "3.5.2"
  }
 },
 "nbformat": 4,
 "nbformat_minor": 2
}
